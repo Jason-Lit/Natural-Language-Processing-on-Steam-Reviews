{
  "cells": [
    {
      "cell_type": "markdown",
      "metadata": {
        "id": "mgK2p9fk5ZR_"
      },
      "source": [
        "## Loading in the File"
      ]
    },
    {
      "cell_type": "code",
      "execution_count": null,
      "metadata": {
        "colab": {
          "base_uri": "https://localhost:8080/"
        },
        "id": "fp7Lix325bKu",
        "outputId": "161f8582-530b-4f26-859d-1ac8e04350bb"
      },
      "outputs": [
        {
          "output_type": "stream",
          "name": "stdout",
          "text": [
            "Mounted at /content/drive/\n"
          ]
        }
      ],
      "source": [
        "from google.colab import drive\n",
        "drive.mount('/content/drive/')"
      ]
    },
    {
      "cell_type": "code",
      "execution_count": null,
      "metadata": {
        "id": "9vIywijU5bqn"
      },
      "outputs": [],
      "source": [
        "file_path = '/content/drive/Shared drives/MSIS 2534 - NLP Group/Final Project/dataset.csv'"
      ]
    },
    {
      "cell_type": "code",
      "execution_count": null,
      "metadata": {
        "id": "jFQeHzYq513E"
      },
      "outputs": [],
      "source": [
        "import pandas as pd\n",
        "import numpy as np\n",
        "#df = pd.read_csv(file_path)"
      ]
    },
    {
      "cell_type": "markdown",
      "metadata": {
        "id": "_0U0j2qzrlPM"
      },
      "source": [
        "## Data Cleaning"
      ]
    },
    {
      "cell_type": "markdown",
      "metadata": {
        "id": "yXcHEH7gsI9o"
      },
      "source": [
        "### Removing NaNs\n",
        "There's a sizable number of games who don't have names. These are games that have been removed from the Steam Store and can no longer be purchased.\n",
        "\n",
        "It's better to remove them."
      ]
    },
    {
      "cell_type": "code",
      "execution_count": null,
      "metadata": {
        "id": "91UYUfux5915"
      },
      "outputs": [],
      "source": [
        "#df.head()\n",
        "num_rows = len(df)\n",
        "nan_rows = df['app_name'].isna().sum()\n",
        "\n",
        "print(f\"The number of rows is: {num_rows}\")\n",
        "print(f\"The number of NaN game rows is: {nan_rows}\")"
      ]
    },
    {
      "cell_type": "code",
      "execution_count": null,
      "metadata": {
        "id": "J6iZkjLC7xkQ"
      },
      "outputs": [],
      "source": [
        "#Dropping NaN games\n",
        "df.dropna(subset=['app_name'], inplace=True)"
      ]
    },
    {
      "cell_type": "markdown",
      "metadata": {
        "id": "SD3EyNjKtiuo"
      },
      "source": [
        "### Removing Non-English Reviews\n",
        "Since Steam is an international platform, there will be reviews that won't be in english.\n",
        "\n",
        "Let's remove any review that has any non-latin character."
      ]
    },
    {
      "cell_type": "code",
      "execution_count": null,
      "metadata": {
        "id": "oRpGoII0t_M0"
      },
      "outputs": [],
      "source": [
        "num_rows_preclean = len(df)"
      ]
    },
    {
      "cell_type": "code",
      "execution_count": null,
      "metadata": {
        "id": "_4Oo4gQ0thTD"
      },
      "outputs": [],
      "source": [
        "#Cleaning Rows for non-latin characters\n",
        "df = df[df['review_text'].str.contains(r'[^\\x00-\\x7F]+') == False]"
      ]
    },
    {
      "cell_type": "code",
      "execution_count": null,
      "metadata": {
        "colab": {
          "base_uri": "https://localhost:8080/"
        },
        "id": "APkZz5KGt9cv",
        "outputId": "4bebf9e0-842d-4b07-b62b-bf3c9fb30a04"
      },
      "outputs": [
        {
          "name": "stdout",
          "output_type": "stream",
          "text": [
            "The number of rows before this clean is: 6233872\n",
            "The number of rows after is: 5758271\n"
          ]
        }
      ],
      "source": [
        "num_rows_postclean = len(df)\n",
        "\n",
        "print(f\"The number of rows before this clean is: {num_rows_preclean}\")\n",
        "print(f\"The number of rows after is: {num_rows_postclean}\")"
      ]
    },
    {
      "cell_type": "markdown",
      "metadata": {
        "id": "MkpQQGvJsbyw"
      },
      "source": [
        "### Removing Junk Reviews\n",
        "Steam's a very, very toxic place with a lot of unhelpful reviews. We should remove any reviews that have less than 30 words to maintain training set purity."
      ]
    },
    {
      "cell_type": "code",
      "execution_count": null,
      "metadata": {
        "colab": {
          "base_uri": "https://localhost:8080/"
        },
        "id": "wjlr1WqzrqYM",
        "outputId": "7953bcb6-7a06-49a9-b6a3-5fbe4aab7a02"
      },
      "outputs": [
        {
          "name": "stdout",
          "output_type": "stream",
          "text": [
            "The average word count for the 'review_text' column is: 49.28658446259303\n"
          ]
        }
      ],
      "source": [
        "df['word_count'] = df['review_text'].apply(lambda x: len(str(x).split()))\n",
        "\n",
        "# Calculate the average word count\n",
        "average_word_count = df['word_count'].mean()\n",
        "\n",
        "print(f\"The average word count for the 'review_text' column is: {average_word_count}\")"
      ]
    },
    {
      "cell_type": "code",
      "execution_count": null,
      "metadata": {
        "id": "xhe2p9Zfs9Md"
      },
      "outputs": [],
      "source": [
        "num_rows_preclean = len(df)\n",
        "\n",
        "#Filtering out the reviews that have less than 30 words\n",
        "df = df.loc[df['word_count'] >= 30]\n",
        "\n",
        "num_rows_postclean = len(df)"
      ]
    },
    {
      "cell_type": "code",
      "execution_count": null,
      "metadata": {
        "colab": {
          "base_uri": "https://localhost:8080/"
        },
        "id": "L1iYs1m-tT6r",
        "outputId": "fd2d264b-b991-4002-92f2-0d19f40182d7"
      },
      "outputs": [
        {
          "name": "stdout",
          "output_type": "stream",
          "text": [
            "The number of rows before this clean is: 5758271\n",
            "The number of rows after is: 2175107\n"
          ]
        }
      ],
      "source": [
        "print(f\"The number of rows before this clean is: {num_rows_preclean}\")\n",
        "print(f\"The number of rows after is: {num_rows_postclean}\")"
      ]
    },
    {
      "cell_type": "markdown",
      "metadata": {
        "id": "E7zWAFASupuA"
      },
      "source": [
        "## Stratifying the Dataset\n",
        "\n",
        "Since there are some games that have incredibly large followings and review counts, we want to avoid biasing our data to only suggest those specific games.\n",
        "\n",
        "We'll be stratifying our dataset to take most of the weight any of those \"larger\" games have."
      ]
    },
    {
      "cell_type": "code",
      "execution_count": null,
      "metadata": {
        "id": "HbXCxENzAJG5"
      },
      "outputs": [],
      "source": [
        "df_grouped = df.groupby('app_id', group_keys=False)\n",
        "\n",
        "# Define a function to perform the stratified split\n",
        "\n",
        "def stratified_split(group):\n",
        "    #Change number of samples as needed\n",
        "    target_samples = 30\n",
        "    total_samples = len(group)\n",
        "\n",
        "    # Adjust frac to get exactly 30 (was 150 before, but changed for new smaller dataset) samples for each group\n",
        "    frac = target_samples / total_samples if total_samples > target_samples else 1.0\n",
        "\n",
        "    return group.sample(frac=frac, random_state=42)\n",
        "\n",
        "#def stratified_split(group):\n",
        "#    return group.sample(frac=0.8, random_state=42)\n",
        "\n",
        "#df_grouped.apply(stratified_split)\n",
        "#df_grouped = df_grouped.mean().reset_index()"
      ]
    },
    {
      "cell_type": "code",
      "execution_count": null,
      "metadata": {
        "id": "-irM5gEr7wKJ"
      },
      "outputs": [],
      "source": [
        "df_stratified = df.groupby('app_id', group_keys=False).apply(stratified_split)\n",
        "\n",
        "# Reset the index to turn it into a normal DataFrame\n",
        "df_stratified = df_stratified.reset_index(drop=True)"
      ]
    },
    {
      "cell_type": "code",
      "execution_count": null,
      "metadata": {
        "colab": {
          "base_uri": "https://localhost:8080/",
          "height": 564
        },
        "id": "vi4sne_jo3_w",
        "outputId": "36d5bf31-c6e6-4f7a-ba80-d9dede305308"
      },
      "outputs": [
        {
          "data": {
            "image/png": "[encoded data removed]",
            "text/plain": [
              "<Figure size 1000x600 with 1 Axes>"
            ]
          },
          "metadata": {},
          "output_type": "display_data"
        }
      ],
      "source": [
        "#Checking for stratification\n",
        "\n",
        "import matplotlib.pyplot as plt\n",
        "#df_stratified['app_name'].value_counts()\n",
        "\n",
        "\n",
        "plt.figure(figsize=(10, 6))  # Set the figure size (optional)\n",
        "\n",
        "# Assuming df is your DataFrame and 'app_name' is the column you want to plot\n",
        "plt.boxplot(df_stratified['app_name'].value_counts(), vert=False)\n",
        "\n",
        "# Set labels and title\n",
        "plt.xlabel('Count')\n",
        "plt.ylabel('App Name')\n",
        "plt.title('Box Plot of App Name Counts')\n",
        "\n",
        "# Show the plot\n",
        "plt.show()\n"
      ]
    },
    {
      "cell_type": "code",
      "execution_count": null,
      "metadata": {
        "colab": {
          "base_uri": "https://localhost:8080/",
          "height": 206
        },
        "id": "etltaGIon3hs",
        "outputId": "5962a702-e5c2-4fe9-8cc6-044c99110eed"
      },
      "outputs": [
        {
          "data": {
            "text/html": [
              "\n",
              "  <div id=\"df-1ffb49bc-94c6-4485-8d72-0427f137cd59\" class=\"colab-df-container\">\n",
              "    <div>\n",
              "<style scoped>\n",
              "    .dataframe tbody tr th:only-of-type {\n",
              "        vertical-align: middle;\n",
              "    }\n",
              "\n",
              "    .dataframe tbody tr th {\n",
              "        vertical-align: top;\n",
              "    }\n",
              "\n",
              "    .dataframe thead th {\n",
              "        text-align: right;\n",
              "    }\n",
              "</style>\n",
              "<table border=\"1\" class=\"dataframe\">\n",
              "  <thead>\n",
              "    <tr style=\"text-align: right;\">\n",
              "      <th></th>\n",
              "      <th>app_id</th>\n",
              "      <th>app_name</th>\n",
              "      <th>review_text</th>\n",
              "      <th>review_score</th>\n",
              "      <th>review_votes</th>\n",
              "      <th>word_count</th>\n",
              "    </tr>\n",
              "  </thead>\n",
              "  <tbody>\n",
              "    <tr>\n",
              "      <th>0</th>\n",
              "      <td>10</td>\n",
              "      <td>Counter-Strike</td>\n",
              "      <td>This is my very first game that I played on St...</td>\n",
              "      <td>1</td>\n",
              "      <td>0</td>\n",
              "      <td>75</td>\n",
              "    </tr>\n",
              "    <tr>\n",
              "      <th>1</th>\n",
              "      <td>10</td>\n",
              "      <td>Counter-Strike</td>\n",
              "      <td>About Counter-Strike Counter-Strike is a first...</td>\n",
              "      <td>1</td>\n",
              "      <td>1</td>\n",
              "      <td>201</td>\n",
              "    </tr>\n",
              "    <tr>\n",
              "      <th>2</th>\n",
              "      <td>10</td>\n",
              "      <td>Counter-Strike</td>\n",
              "      <td>It might look like a tiny Half Life mod, but l...</td>\n",
              "      <td>1</td>\n",
              "      <td>0</td>\n",
              "      <td>48</td>\n",
              "    </tr>\n",
              "    <tr>\n",
              "      <th>3</th>\n",
              "      <td>10</td>\n",
              "      <td>Counter-Strike</td>\n",
              "      <td>This game is a prime example of how a great ga...</td>\n",
              "      <td>1</td>\n",
              "      <td>0</td>\n",
              "      <td>68</td>\n",
              "    </tr>\n",
              "    <tr>\n",
              "      <th>4</th>\n",
              "      <td>10</td>\n",
              "      <td>Counter-Strike</td>\n",
              "      <td>it's good game when you play with you friends ...</td>\n",
              "      <td>1</td>\n",
              "      <td>0</td>\n",
              "      <td>60</td>\n",
              "    </tr>\n",
              "  </tbody>\n",
              "</table>\n",
              "</div>\n",
              "    <div class=\"colab-df-buttons\">\n",
              "\n",
              "  <div class=\"colab-df-container\">\n",
              "    <button class=\"colab-df-convert\" onclick=\"convertToInteractive('df-1ffb49bc-94c6-4485-8d72-0427f137cd59')\"\n",
              "            title=\"Convert this dataframe to an interactive table.\"\n",
              "            style=\"display:none;\">\n",
              "\n",
              "  <svg xmlns=\"http://www.w3.org/2000/svg\" height=\"24px\" viewBox=\"0 -960 960 960\">\n",
              "    <path d=\"M120-120v-720h720v720H120Zm60-500h600v-160H180v160Zm220 220h160v-160H400v160Zm0 220h160v-160H400v160ZM180-400h160v-160H180v160Zm440 0h160v-160H620v160ZM180-180h160v-160H180v160Zm440 0h160v-160H620v160Z\"/>\n",
              "  </svg>\n",
              "    </button>\n",
              "\n",
              "  <style>\n",
              "    .colab-df-container {\n",
              "      display:flex;\n",
              "      gap: 12px;\n",
              "    }\n",
              "\n",
              "    .colab-df-convert {\n",
              "      background-color: #E8F0FE;\n",
              "      border: none;\n",
              "      border-radius: 50%;\n",
              "      cursor: pointer;\n",
              "      display: none;\n",
              "      fill: #1967D2;\n",
              "      height: 32px;\n",
              "      padding: 0 0 0 0;\n",
              "      width: 32px;\n",
              "    }\n",
              "\n",
              "    .colab-df-convert:hover {\n",
              "      background-color: #E2EBFA;\n",
              "      box-shadow: 0px 1px 2px rgba(60, 64, 67, 0.3), 0px 1px 3px 1px rgba(60, 64, 67, 0.15);\n",
              "      fill: #174EA6;\n",
              "    }\n",
              "\n",
              "    .colab-df-buttons div {\n",
              "      margin-bottom: 4px;\n",
              "    }\n",
              "\n",
              "    [theme=dark] .colab-df-convert {\n",
              "      background-color: #3B4455;\n",
              "      fill: #D2E3FC;\n",
              "    }\n",
              "\n",
              "    [theme=dark] .colab-df-convert:hover {\n",
              "      background-color: #434B5C;\n",
              "      box-shadow: 0px 1px 3px 1px rgba(0, 0, 0, 0.15);\n",
              "      filter: drop-shadow(0px 1px 2px rgba(0, 0, 0, 0.3));\n",
              "      fill: #FFFFFF;\n",
              "    }\n",
              "  </style>\n",
              "\n",
              "    <script>\n",
              "      const buttonEl =\n",
              "        document.querySelector('#df-1ffb49bc-94c6-4485-8d72-0427f137cd59 button.colab-df-convert');\n",
              "      buttonEl.style.display =\n",
              "        google.colab.kernel.accessAllowed ? 'block' : 'none';\n",
              "\n",
              "      async function convertToInteractive(key) {\n",
              "        const element = document.querySelector('#df-1ffb49bc-94c6-4485-8d72-0427f137cd59');\n",
              "        const dataTable =\n",
              "          await google.colab.kernel.invokeFunction('convertToInteractive',\n",
              "                                                    [key], {});\n",
              "        if (!dataTable) return;\n",
              "\n",
              "        const docLinkHtml = 'Like what you see? Visit the ' +\n",
              "          '<a target=\"_blank\" href=https://colab.research.google.com/notebooks/data_table.ipynb>data table notebook</a>'\n",
              "          + ' to learn more about interactive tables.';\n",
              "        element.innerHTML = '';\n",
              "        dataTable['output_type'] = 'display_data';\n",
              "        await google.colab.output.renderOutput(dataTable, element);\n",
              "        const docLink = document.createElement('div');\n",
              "        docLink.innerHTML = docLinkHtml;\n",
              "        element.appendChild(docLink);\n",
              "      }\n",
              "    </script>\n",
              "  </div>\n",
              "\n",
              "\n",
              "<div id=\"df-7e18fc23-d420-44ab-842f-09350828e437\">\n",
              "  <button class=\"colab-df-quickchart\" onclick=\"quickchart('df-7e18fc23-d420-44ab-842f-09350828e437')\"\n",
              "            title=\"Suggest charts\"\n",
              "            style=\"display:none;\">\n",
              "\n",
              "<svg xmlns=\"http://www.w3.org/2000/svg\" height=\"24px\"viewBox=\"0 0 24 24\"\n",
              "     width=\"24px\">\n",
              "    <g>\n",
              "        <path d=\"M19 3H5c-1.1 0-2 .9-2 2v14c0 1.1.9 2 2 2h14c1.1 0 2-.9 2-2V5c0-1.1-.9-2-2-2zM9 17H7v-7h2v7zm4 0h-2V7h2v10zm4 0h-2v-4h2v4z\"/>\n",
              "    </g>\n",
              "</svg>\n",
              "  </button>\n",
              "\n",
              "<style>\n",
              "  .colab-df-quickchart {\n",
              "      --bg-color: #E8F0FE;\n",
              "      --fill-color: #1967D2;\n",
              "      --hover-bg-color: #E2EBFA;\n",
              "      --hover-fill-color: #174EA6;\n",
              "      --disabled-fill-color: #AAA;\n",
              "      --disabled-bg-color: #DDD;\n",
              "  }\n",
              "\n",
              "  [theme=dark] .colab-df-quickchart {\n",
              "      --bg-color: #3B4455;\n",
              "      --fill-color: #D2E3FC;\n",
              "      --hover-bg-color: #434B5C;\n",
              "      --hover-fill-color: #FFFFFF;\n",
              "      --disabled-bg-color: #3B4455;\n",
              "      --disabled-fill-color: #666;\n",
              "  }\n",
              "\n",
              "  .colab-df-quickchart {\n",
              "    background-color: var(--bg-color);\n",
              "    border: none;\n",
              "    border-radius: 50%;\n",
              "    cursor: pointer;\n",
              "    display: none;\n",
              "    fill: var(--fill-color);\n",
              "    height: 32px;\n",
              "    padding: 0;\n",
              "    width: 32px;\n",
              "  }\n",
              "\n",
              "  .colab-df-quickchart:hover {\n",
              "    background-color: var(--hover-bg-color);\n",
              "    box-shadow: 0 1px 2px rgba(60, 64, 67, 0.3), 0 1px 3px 1px rgba(60, 64, 67, 0.15);\n",
              "    fill: var(--button-hover-fill-color);\n",
              "  }\n",
              "\n",
              "  .colab-df-quickchart-complete:disabled,\n",
              "  .colab-df-quickchart-complete:disabled:hover {\n",
              "    background-color: var(--disabled-bg-color);\n",
              "    fill: var(--disabled-fill-color);\n",
              "    box-shadow: none;\n",
              "  }\n",
              "\n",
              "  .colab-df-spinner {\n",
              "    border: 2px solid var(--fill-color);\n",
              "    border-color: transparent;\n",
              "    border-bottom-color: var(--fill-color);\n",
              "    animation:\n",
              "      spin 1s steps(1) infinite;\n",
              "  }\n",
              "\n",
              "  @keyframes spin {\n",
              "    0% {\n",
              "      border-color: transparent;\n",
              "      border-bottom-color: var(--fill-color);\n",
              "      border-left-color: var(--fill-color);\n",
              "    }\n",
              "    20% {\n",
              "      border-color: transparent;\n",
              "      border-left-color: var(--fill-color);\n",
              "      border-top-color: var(--fill-color);\n",
              "    }\n",
              "    30% {\n",
              "      border-color: transparent;\n",
              "      border-left-color: var(--fill-color);\n",
              "      border-top-color: var(--fill-color);\n",
              "      border-right-color: var(--fill-color);\n",
              "    }\n",
              "    40% {\n",
              "      border-color: transparent;\n",
              "      border-right-color: var(--fill-color);\n",
              "      border-top-color: var(--fill-color);\n",
              "    }\n",
              "    60% {\n",
              "      border-color: transparent;\n",
              "      border-right-color: var(--fill-color);\n",
              "    }\n",
              "    80% {\n",
              "      border-color: transparent;\n",
              "      border-right-color: var(--fill-color);\n",
              "      border-bottom-color: var(--fill-color);\n",
              "    }\n",
              "    90% {\n",
              "      border-color: transparent;\n",
              "      border-bottom-color: var(--fill-color);\n",
              "    }\n",
              "  }\n",
              "</style>\n",
              "\n",
              "  <script>\n",
              "    async function quickchart(key) {\n",
              "      const quickchartButtonEl =\n",
              "        document.querySelector('#' + key + ' button');\n",
              "      quickchartButtonEl.disabled = true;  // To prevent multiple clicks.\n",
              "      quickchartButtonEl.classList.add('colab-df-spinner');\n",
              "      try {\n",
              "        const charts = await google.colab.kernel.invokeFunction(\n",
              "            'suggestCharts', [key], {});\n",
              "      } catch (error) {\n",
              "        console.error('Error during call to suggestCharts:', error);\n",
              "      }\n",
              "      quickchartButtonEl.classList.remove('colab-df-spinner');\n",
              "      quickchartButtonEl.classList.add('colab-df-quickchart-complete');\n",
              "    }\n",
              "    (() => {\n",
              "      let quickchartButtonEl =\n",
              "        document.querySelector('#df-7e18fc23-d420-44ab-842f-09350828e437 button');\n",
              "      quickchartButtonEl.style.display =\n",
              "        google.colab.kernel.accessAllowed ? 'block' : 'none';\n",
              "    })();\n",
              "  </script>\n",
              "</div>\n",
              "    </div>\n",
              "  </div>\n"
            ],
            "text/plain": [
              "   app_id        app_name                                        review_text  \\\n",
              "0      10  Counter-Strike  This is my very first game that I played on St...   \n",
              "1      10  Counter-Strike  About Counter-Strike Counter-Strike is a first...   \n",
              "2      10  Counter-Strike  It might look like a tiny Half Life mod, but l...   \n",
              "3      10  Counter-Strike  This game is a prime example of how a great ga...   \n",
              "4      10  Counter-Strike  it's good game when you play with you friends ...   \n",
              "\n",
              "   review_score  review_votes  word_count  \n",
              "0             1             0          75  \n",
              "1             1             1         201  \n",
              "2             1             0          48  \n",
              "3             1             0          68  \n",
              "4             1             0          60  "
            ]
          },
          "execution_count": 15,
          "metadata": {},
          "output_type": "execute_result"
        }
      ],
      "source": [
        "df_stratified.head()"
      ]
    },
    {
      "cell_type": "markdown",
      "metadata": {
        "id": "uVflnKyZu-5U"
      },
      "source": [
        "## Final Touchups\n",
        "\n",
        "We'll include the name of the game within the review text."
      ]
    },
    {
      "cell_type": "code",
      "execution_count": null,
      "metadata": {
        "id": "jJud07gmors1"
      },
      "outputs": [],
      "source": [
        "df_stratified['review_text_named'] = \"\" + df_stratified['app_name'] + \": \" + df_stratified['review_text']"
      ]
    },
    {
      "cell_type": "code",
      "execution_count": null,
      "metadata": {
        "colab": {
          "base_uri": "https://localhost:8080/"
        },
        "id": "UNWUcog6n9Dq",
        "outputId": "2d95f196-ed77-406e-cf36-fb842c03a561"
      },
      "outputs": [
        {
          "name": "stdout",
          "output_type": "stream",
          "text": [
            "The number of rows post everything: 178896\n",
            "The number of unique values in 'column_name' is: 8483\n"
          ]
        }
      ],
      "source": [
        "print(f\"The number of rows post everything: {len(df_stratified)}\")\n",
        "\n",
        "\n",
        "print(f\"The number of unique values in 'column_name' is: {df_stratified['app_name'].nunique()}\")"
      ]
    },
    {
      "cell_type": "code",
      "execution_count": null,
      "metadata": {
        "colab": {
          "base_uri": "https://localhost:8080/",
          "height": 206
        },
        "id": "7tL629lHYeAA",
        "outputId": "715e3033-0c88-4a64-b631-59482880980d"
      },
      "outputs": [
        {
          "data": {
            "text/html": [
              "\n",
              "  <div id=\"df-327104a9-324f-4825-912e-c99c20d4eacb\" class=\"colab-df-container\">\n",
              "    <div>\n",
              "<style scoped>\n",
              "    .dataframe tbody tr th:only-of-type {\n",
              "        vertical-align: middle;\n",
              "    }\n",
              "\n",
              "    .dataframe tbody tr th {\n",
              "        vertical-align: top;\n",
              "    }\n",
              "\n",
              "    .dataframe thead th {\n",
              "        text-align: right;\n",
              "    }\n",
              "</style>\n",
              "<table border=\"1\" class=\"dataframe\">\n",
              "  <thead>\n",
              "    <tr style=\"text-align: right;\">\n",
              "      <th></th>\n",
              "      <th>app_id</th>\n",
              "      <th>app_name</th>\n",
              "      <th>review_text</th>\n",
              "      <th>review_score</th>\n",
              "      <th>review_votes</th>\n",
              "      <th>word_count</th>\n",
              "      <th>review_text_named</th>\n",
              "    </tr>\n",
              "  </thead>\n",
              "  <tbody>\n",
              "    <tr>\n",
              "      <th>0</th>\n",
              "      <td>10</td>\n",
              "      <td>Counter-Strike</td>\n",
              "      <td>This is my very first game that I played on St...</td>\n",
              "      <td>1</td>\n",
              "      <td>0</td>\n",
              "      <td>75</td>\n",
              "      <td>Counter-Strike: This is my very first game tha...</td>\n",
              "    </tr>\n",
              "    <tr>\n",
              "      <th>1</th>\n",
              "      <td>10</td>\n",
              "      <td>Counter-Strike</td>\n",
              "      <td>About Counter-Strike Counter-Strike is a first...</td>\n",
              "      <td>1</td>\n",
              "      <td>1</td>\n",
              "      <td>201</td>\n",
              "      <td>Counter-Strike: About Counter-Strike Counter-S...</td>\n",
              "    </tr>\n",
              "    <tr>\n",
              "      <th>2</th>\n",
              "      <td>10</td>\n",
              "      <td>Counter-Strike</td>\n",
              "      <td>It might look like a tiny Half Life mod, but l...</td>\n",
              "      <td>1</td>\n",
              "      <td>0</td>\n",
              "      <td>48</td>\n",
              "      <td>Counter-Strike: It might look like a tiny Half...</td>\n",
              "    </tr>\n",
              "    <tr>\n",
              "      <th>3</th>\n",
              "      <td>10</td>\n",
              "      <td>Counter-Strike</td>\n",
              "      <td>This game is a prime example of how a great ga...</td>\n",
              "      <td>1</td>\n",
              "      <td>0</td>\n",
              "      <td>68</td>\n",
              "      <td>Counter-Strike: This game is a prime example o...</td>\n",
              "    </tr>\n",
              "    <tr>\n",
              "      <th>4</th>\n",
              "      <td>10</td>\n",
              "      <td>Counter-Strike</td>\n",
              "      <td>it's good game when you play with you friends ...</td>\n",
              "      <td>1</td>\n",
              "      <td>0</td>\n",
              "      <td>60</td>\n",
              "      <td>Counter-Strike: it's good game when you play w...</td>\n",
              "    </tr>\n",
              "  </tbody>\n",
              "</table>\n",
              "</div>\n",
              "    <div class=\"colab-df-buttons\">\n",
              "\n",
              "  <div class=\"colab-df-container\">\n",
              "    <button class=\"colab-df-convert\" onclick=\"convertToInteractive('df-327104a9-324f-4825-912e-c99c20d4eacb')\"\n",
              "            title=\"Convert this dataframe to an interactive table.\"\n",
              "            style=\"display:none;\">\n",
              "\n",
              "  <svg xmlns=\"http://www.w3.org/2000/svg\" height=\"24px\" viewBox=\"0 -960 960 960\">\n",
              "    <path d=\"M120-120v-720h720v720H120Zm60-500h600v-160H180v160Zm220 220h160v-160H400v160Zm0 220h160v-160H400v160ZM180-400h160v-160H180v160Zm440 0h160v-160H620v160ZM180-180h160v-160H180v160Zm440 0h160v-160H620v160Z\"/>\n",
              "  </svg>\n",
              "    </button>\n",
              "\n",
              "  <style>\n",
              "    .colab-df-container {\n",
              "      display:flex;\n",
              "      gap: 12px;\n",
              "    }\n",
              "\n",
              "    .colab-df-convert {\n",
              "      background-color: #E8F0FE;\n",
              "      border: none;\n",
              "      border-radius: 50%;\n",
              "      cursor: pointer;\n",
              "      display: none;\n",
              "      fill: #1967D2;\n",
              "      height: 32px;\n",
              "      padding: 0 0 0 0;\n",
              "      width: 32px;\n",
              "    }\n",
              "\n",
              "    .colab-df-convert:hover {\n",
              "      background-color: #E2EBFA;\n",
              "      box-shadow: 0px 1px 2px rgba(60, 64, 67, 0.3), 0px 1px 3px 1px rgba(60, 64, 67, 0.15);\n",
              "      fill: #174EA6;\n",
              "    }\n",
              "\n",
              "    .colab-df-buttons div {\n",
              "      margin-bottom: 4px;\n",
              "    }\n",
              "\n",
              "    [theme=dark] .colab-df-convert {\n",
              "      background-color: #3B4455;\n",
              "      fill: #D2E3FC;\n",
              "    }\n",
              "\n",
              "    [theme=dark] .colab-df-convert:hover {\n",
              "      background-color: #434B5C;\n",
              "      box-shadow: 0px 1px 3px 1px rgba(0, 0, 0, 0.15);\n",
              "      filter: drop-shadow(0px 1px 2px rgba(0, 0, 0, 0.3));\n",
              "      fill: #FFFFFF;\n",
              "    }\n",
              "  </style>\n",
              "\n",
              "    <script>\n",
              "      const buttonEl =\n",
              "        document.querySelector('#df-327104a9-324f-4825-912e-c99c20d4eacb button.colab-df-convert');\n",
              "      buttonEl.style.display =\n",
              "        google.colab.kernel.accessAllowed ? 'block' : 'none';\n",
              "\n",
              "      async function convertToInteractive(key) {\n",
              "        const element = document.querySelector('#df-327104a9-324f-4825-912e-c99c20d4eacb');\n",
              "        const dataTable =\n",
              "          await google.colab.kernel.invokeFunction('convertToInteractive',\n",
              "                                                    [key], {});\n",
              "        if (!dataTable) return;\n",
              "\n",
              "        const docLinkHtml = 'Like what you see? Visit the ' +\n",
              "          '<a target=\"_blank\" href=https://colab.research.google.com/notebooks/data_table.ipynb>data table notebook</a>'\n",
              "          + ' to learn more about interactive tables.';\n",
              "        element.innerHTML = '';\n",
              "        dataTable['output_type'] = 'display_data';\n",
              "        await google.colab.output.renderOutput(dataTable, element);\n",
              "        const docLink = document.createElement('div');\n",
              "        docLink.innerHTML = docLinkHtml;\n",
              "        element.appendChild(docLink);\n",
              "      }\n",
              "    </script>\n",
              "  </div>\n",
              "\n",
              "\n",
              "<div id=\"df-29844d2a-5041-4606-b0cd-90485ef8e79f\">\n",
              "  <button class=\"colab-df-quickchart\" onclick=\"quickchart('df-29844d2a-5041-4606-b0cd-90485ef8e79f')\"\n",
              "            title=\"Suggest charts\"\n",
              "            style=\"display:none;\">\n",
              "\n",
              "<svg xmlns=\"http://www.w3.org/2000/svg\" height=\"24px\"viewBox=\"0 0 24 24\"\n",
              "     width=\"24px\">\n",
              "    <g>\n",
              "        <path d=\"M19 3H5c-1.1 0-2 .9-2 2v14c0 1.1.9 2 2 2h14c1.1 0 2-.9 2-2V5c0-1.1-.9-2-2-2zM9 17H7v-7h2v7zm4 0h-2V7h2v10zm4 0h-2v-4h2v4z\"/>\n",
              "    </g>\n",
              "</svg>\n",
              "  </button>\n",
              "\n",
              "<style>\n",
              "  .colab-df-quickchart {\n",
              "      --bg-color: #E8F0FE;\n",
              "      --fill-color: #1967D2;\n",
              "      --hover-bg-color: #E2EBFA;\n",
              "      --hover-fill-color: #174EA6;\n",
              "      --disabled-fill-color: #AAA;\n",
              "      --disabled-bg-color: #DDD;\n",
              "  }\n",
              "\n",
              "  [theme=dark] .colab-df-quickchart {\n",
              "      --bg-color: #3B4455;\n",
              "      --fill-color: #D2E3FC;\n",
              "      --hover-bg-color: #434B5C;\n",
              "      --hover-fill-color: #FFFFFF;\n",
              "      --disabled-bg-color: #3B4455;\n",
              "      --disabled-fill-color: #666;\n",
              "  }\n",
              "\n",
              "  .colab-df-quickchart {\n",
              "    background-color: var(--bg-color);\n",
              "    border: none;\n",
              "    border-radius: 50%;\n",
              "    cursor: pointer;\n",
              "    display: none;\n",
              "    fill: var(--fill-color);\n",
              "    height: 32px;\n",
              "    padding: 0;\n",
              "    width: 32px;\n",
              "  }\n",
              "\n",
              "  .colab-df-quickchart:hover {\n",
              "    background-color: var(--hover-bg-color);\n",
              "    box-shadow: 0 1px 2px rgba(60, 64, 67, 0.3), 0 1px 3px 1px rgba(60, 64, 67, 0.15);\n",
              "    fill: var(--button-hover-fill-color);\n",
              "  }\n",
              "\n",
              "  .colab-df-quickchart-complete:disabled,\n",
              "  .colab-df-quickchart-complete:disabled:hover {\n",
              "    background-color: var(--disabled-bg-color);\n",
              "    fill: var(--disabled-fill-color);\n",
              "    box-shadow: none;\n",
              "  }\n",
              "\n",
              "  .colab-df-spinner {\n",
              "    border: 2px solid var(--fill-color);\n",
              "    border-color: transparent;\n",
              "    border-bottom-color: var(--fill-color);\n",
              "    animation:\n",
              "      spin 1s steps(1) infinite;\n",
              "  }\n",
              "\n",
              "  @keyframes spin {\n",
              "    0% {\n",
              "      border-color: transparent;\n",
              "      border-bottom-color: var(--fill-color);\n",
              "      border-left-color: var(--fill-color);\n",
              "    }\n",
              "    20% {\n",
              "      border-color: transparent;\n",
              "      border-left-color: var(--fill-color);\n",
              "      border-top-color: var(--fill-color);\n",
              "    }\n",
              "    30% {\n",
              "      border-color: transparent;\n",
              "      border-left-color: var(--fill-color);\n",
              "      border-top-color: var(--fill-color);\n",
              "      border-right-color: var(--fill-color);\n",
              "    }\n",
              "    40% {\n",
              "      border-color: transparent;\n",
              "      border-right-color: var(--fill-color);\n",
              "      border-top-color: var(--fill-color);\n",
              "    }\n",
              "    60% {\n",
              "      border-color: transparent;\n",
              "      border-right-color: var(--fill-color);\n",
              "    }\n",
              "    80% {\n",
              "      border-color: transparent;\n",
              "      border-right-color: var(--fill-color);\n",
              "      border-bottom-color: var(--fill-color);\n",
              "    }\n",
              "    90% {\n",
              "      border-color: transparent;\n",
              "      border-bottom-color: var(--fill-color);\n",
              "    }\n",
              "  }\n",
              "</style>\n",
              "\n",
              "  <script>\n",
              "    async function quickchart(key) {\n",
              "      const quickchartButtonEl =\n",
              "        document.querySelector('#' + key + ' button');\n",
              "      quickchartButtonEl.disabled = true;  // To prevent multiple clicks.\n",
              "      quickchartButtonEl.classList.add('colab-df-spinner');\n",
              "      try {\n",
              "        const charts = await google.colab.kernel.invokeFunction(\n",
              "            'suggestCharts', [key], {});\n",
              "      } catch (error) {\n",
              "        console.error('Error during call to suggestCharts:', error);\n",
              "      }\n",
              "      quickchartButtonEl.classList.remove('colab-df-spinner');\n",
              "      quickchartButtonEl.classList.add('colab-df-quickchart-complete');\n",
              "    }\n",
              "    (() => {\n",
              "      let quickchartButtonEl =\n",
              "        document.querySelector('#df-29844d2a-5041-4606-b0cd-90485ef8e79f button');\n",
              "      quickchartButtonEl.style.display =\n",
              "        google.colab.kernel.accessAllowed ? 'block' : 'none';\n",
              "    })();\n",
              "  </script>\n",
              "</div>\n",
              "    </div>\n",
              "  </div>\n"
            ],
            "text/plain": [
              "   app_id        app_name                                        review_text  \\\n",
              "0      10  Counter-Strike  This is my very first game that I played on St...   \n",
              "1      10  Counter-Strike  About Counter-Strike Counter-Strike is a first...   \n",
              "2      10  Counter-Strike  It might look like a tiny Half Life mod, but l...   \n",
              "3      10  Counter-Strike  This game is a prime example of how a great ga...   \n",
              "4      10  Counter-Strike  it's good game when you play with you friends ...   \n",
              "\n",
              "   review_score  review_votes  word_count  \\\n",
              "0             1             0          75   \n",
              "1             1             1         201   \n",
              "2             1             0          48   \n",
              "3             1             0          68   \n",
              "4             1             0          60   \n",
              "\n",
              "                                   review_text_named  \n",
              "0  Counter-Strike: This is my very first game tha...  \n",
              "1  Counter-Strike: About Counter-Strike Counter-S...  \n",
              "2  Counter-Strike: It might look like a tiny Half...  \n",
              "3  Counter-Strike: This game is a prime example o...  \n",
              "4  Counter-Strike: it's good game when you play w...  "
            ]
          },
          "execution_count": 18,
          "metadata": {},
          "output_type": "execute_result"
        }
      ],
      "source": [
        "df_stratified.head()"
      ]
    },
    {
      "cell_type": "code",
      "execution_count": null,
      "metadata": {
        "id": "YClwYPxkU4hO"
      },
      "outputs": [],
      "source": [
        "df_stratified.to_csv('/content/drive/Shared drives/MSIS 2534 - NLP Group/Final Project/SmallStratData.csv') # Export data to csv for training in SageMaker"
      ]
    },
    {
      "cell_type": "markdown",
      "metadata": {
        "id": "mS8svNyu9lZt"
      },
      "source": [
        "### Finding Similar Reviews"
      ]
    },
    {
      "cell_type": "code",
      "execution_count": null,
      "metadata": {
        "id": "POjTWBjK9qjt"
      },
      "outputs": [],
      "source": [
        "import spacy\n",
        "#import scipy\n",
        "from sklearn.feature_extraction.text import TfidfVectorizer\n",
        "from sklearn.metrics.pairwise import cosine_similarity"
      ]
    },
    {
      "cell_type": "code",
      "execution_count": null,
      "metadata": {
        "id": "bU7H8wHb9sct"
      },
      "outputs": [],
      "source": [
        "# Load spaCy model\n",
        "nlp = spacy.load(\"en_core_web_sm\")"
      ]
    },
    {
      "cell_type": "code",
      "execution_count": null,
      "metadata": {
        "id": "KUI8w3j19xqI"
      },
      "outputs": [],
      "source": [
        "# Given review\n",
        "given_review = \"A shooter game with lots of gore and blood and guts. Made by a good developer, not greedy and no microtransactions. Replayability is a must.\"\n",
        "\n",
        "# Tokenize and lemmatize the given review\n",
        "processed_given_review = \" \".join([token.lemma_ for token in nlp(given_review) if not token.is_stop and token.is_alpha])\n"
      ]
    },
    {
      "cell_type": "code",
      "execution_count": null,
      "metadata": {
        "id": "k5ZQUIhjDhyC"
      },
      "outputs": [],
      "source": [
        "#pip install swifter"
      ]
    },
    {
      "cell_type": "code",
      "execution_count": null,
      "metadata": {
        "id": "KRPvpBHx93S3"
      },
      "outputs": [],
      "source": [
        "# DO NOT RUN THIS, IT TAKES FOREVER\n",
        "#import swifter\n",
        "# Tokenize and lemmatize the reviews in the dataframe using swifter for parallel processing\n",
        "#df_stratified['processed_reviews'] = df_stratified['review_text'].swifter.apply(\n",
        "#    lambda x: \" \".join([token.lemma_ for token in nlp(x) if not token.is_stop and token.is_alpha])\n",
        "#)"
      ]
    },
    {
      "cell_type": "markdown",
      "source": [
        "## All you need to run is this code:"
      ],
      "metadata": {
        "id": "gnXarrdX1YAU"
      }
    },
    {
      "cell_type": "code",
      "execution_count": null,
      "metadata": {
        "id": "KCPNWCFEHSkW"
      },
      "outputs": [],
      "source": [
        "#df_stratified.to_csv('/content/drive/Shared drives/MSIS 2534 - NLP Group/Final Project/tokened_n_lemmatized.csv') # Export data to csv for training in SageMaker"
      ]
    },
    {
      "cell_type": "code",
      "source": [
        "file_path_strat = '/content/drive/Shared drives/MSIS 2534 - NLP Group/Final Project/tokened_n_lemmatized.csv'\n",
        "df_stratified = pd.read_csv(file_path_strat)"
      ],
      "metadata": {
        "id": "JUly4R66wTBU"
      },
      "execution_count": null,
      "outputs": []
    },
    {
      "cell_type": "code",
      "source": [
        "df_stratified_clean = df_stratified.dropna(subset=['processed_reviews'])"
      ],
      "metadata": {
        "id": "6Xn5B03NwzC-"
      },
      "execution_count": null,
      "outputs": []
    },
    {
      "cell_type": "code",
      "execution_count": null,
      "metadata": {
        "id": "IcMAP5rN9-0E"
      },
      "outputs": [],
      "source": [
        "# Vectorize the reviews using TF-IDF\n",
        "vectorizer = TfidfVectorizer()\n",
        "vectorized_reviews = vectorizer.fit_transform(df_stratified_clean['processed_reviews'])\n",
        "\n",
        "# Vectorize the given review\n",
        "vectorized_given_review = vectorizer.transform([processed_given_review])\n",
        "vectorized_given_review\n",
        "\n",
        "#scipy.sparse.save_npz('MSIS 2534 - NLP Group/Final Project/vectorized_given_review.npz', vectorized_given_review)\n",
        "\n",
        "#vectorized_given_review.to_csv('/content/drive/Shared drives/MSIS 2534 - NLP Group/Final Project/vectorized_given_review.csv')"
      ]
    },
    {
      "cell_type": "code",
      "source": [
        "from sklearn.feature_extraction.text import TfidfVectorizer\n",
        "from sklearn.metrics.pairwise import cosine_similarity\n",
        "def SimilarReviewGenerator(review):\n",
        "  reviews= [review]\n",
        "  vectorizer = TfidfVectorizer()\n",
        "  vectorized_reviews = vectorizer.fit_transform(df_stratified_clean['processed_reviews'])\n",
        "  vectorized_given_review = vectorizer.transform(reviews)\n",
        "  cosine_similarities = cosine_similarity(vectorized_reviews, vectorized_given_review)\n",
        "  closest_review_index = cosine_similarities.argmax()\n",
        "  top5_review_indices = np.argsort(cosine_similarities[:, 0])[-5:][::-1]\n",
        "  print(\"Given Review:\")\n",
        "  print(\"Review Text:\", review)\n",
        "  print(\"\\nTop 5 Closest Reviews:\")\n",
        "  for i, index in enumerate(top5_review_indices):\n",
        "    closest_review_details = df_stratified_clean.loc[index, ['app_name', 'review_text']]\n",
        "    print(f\"\\nClosest Game {i + 1} Details:\")\n",
        "    print(\"App Name:\", closest_review_details['app_name'])\n",
        "    print(\"Review Text:\", closest_review_details['review_text'])"
      ],
      "metadata": {
        "id": "azfn6N2q02cn"
      },
      "execution_count": null,
      "outputs": []
    },
    {
      "cell_type": "code",
      "source": [
        "review = 'Not having steam cloud saves is the only thing wrong with this. Having to restart every time you want to play on a new device sucks!'\n",
        "SimilarReviewGenerator(review)"
      ],
      "metadata": {
        "colab": {
          "base_uri": "https://localhost:8080/"
        },
        "id": "z0WxX4oN04xx",
        "outputId": "b1118535-a872-407c-acca-13a0b2d70c82"
      },
      "execution_count": null,
      "outputs": [
        {
          "output_type": "stream",
          "name": "stdout",
          "text": [
            "Given Review:\n",
            "Review Text: Not having steam cloud saves is the only thing wrong with this. Having to restart every time you want to play on a new device sucks!\n",
            "\n",
            "Top 5 Closest Reviews:\n",
            "\n",
            "Closest Game 1 Details:\n",
            "App Name: Spandex Force: Champion Rising\n",
            "Review Text:   I haven't played a more tedious game. For every single thing that you do in the game you have to play the exact same match-3 minigame. Every. Single. Thing. Even during combat. It gets extremely tiring and repetitive. There's also a clock: you have 30 in-game days to complete the mission or you're out of luck.\n",
            "\n",
            "Closest Game 2 Details:\n",
            "App Name: Grotesque Tactics: Evil Heroes\n",
            "Review Text: I wish I could give this game away and purge all record of having bought this game. Even though I bought it when it was 75% off, I still regret having paid even that much for it.\n",
            "\n",
            "Closest Game 3 Details:\n",
            "App Name: DOOM 3\n",
            "Review Text: One thing I gotta say, is that this game is just amazing! I mean when it first came out in 2004 it was like a new generation of new graphics an design. The game takes place of mars, then people start getting killed its just really fun you gotta buy it! An I also forgot if you dont like the vanilla graphics on this all you gotta do is get the sikkmod v1.2, but it still is fun no matter what an s**t your pants scary :D. 10/10\n",
            "\n",
            "Closest Game 4 Details:\n",
            "App Name: Unforgiving Trials: The Darkest Crusade\n",
            "Review Text: I know what you are thinking...  ...what gives? However, I assure you this game is legit.  Once you get passed the sequential fights, you realize the strategy, and preparation necessary to overcome the East Road. This game made me better at Turn Based Strategy, and is the most challenging Turn Based Strategy game I have ever played. From Final Fantasy, to Chrono Trigger, to Secret of Mana, this game makes them look child's play...  AWESOME ENEMIES CHALLENGING GAMEPLAY CHIBI CHARACTERS THAT RIVAL ALL THE CAT PICTURES ON THE INTERNET AND A SENSE OF HUMOR THAT MAKES YOU QUESTION THE BEST GAME SCRIPT  10/10 would rob the inn keeper again\n",
            "\n",
            "Closest Game 5 Details:\n",
            "App Name: Age of Wonders 2: The Wizard's Throne\n",
            "Review Text: It's a great game, but unfortunatelly this version has a lot ot compatibility issues and crashes too often. For example, I can't even zoom out the map, because when I try to do it - the game crashes. Plus, lots of over isses. If not for that, the game is a must have.\n"
          ]
        }
      ]
    },
    {
      "cell_type": "code",
      "execution_count": null,
      "metadata": {
        "id": "7dOYCliw-Djn"
      },
      "outputs": [],
      "source": [
        "# Calculate cosine similarity\n",
        "cosine_similarities = cosine_similarity(vectorized_reviews, vectorized_given_review)"
      ]
    },
    {
      "cell_type": "code",
      "source": [
        "# Find the index of the closest review\n",
        "closest_review_index = cosine_similarities.argmax()\n",
        "closest_review_index"
      ],
      "metadata": {
        "colab": {
          "base_uri": "https://localhost:8080/"
        },
        "id": "n5dOmwUlza-A",
        "outputId": "e5029786-f9ce-40e8-a088-deddd3fd97d3"
      },
      "execution_count": null,
      "outputs": [
        {
          "output_type": "execute_result",
          "data": {
            "text/plain": [
              "43682"
            ]
          },
          "metadata": {},
          "execution_count": 13
        }
      ]
    },
    {
      "cell_type": "code",
      "source": [
        "top5_review_indices = np.argsort(cosine_similarities[:, 0])[-5:][::-1]\n",
        "top5_review_indices"
      ],
      "metadata": {
        "colab": {
          "base_uri": "https://localhost:8080/"
        },
        "id": "7kBw3i5Y0pBA",
        "outputId": "0f9a9373-b609-4ed0-b529-642e18adc5f8"
      },
      "execution_count": null,
      "outputs": [
        {
          "output_type": "execute_result",
          "data": {
            "text/plain": [
              "array([43682, 63625,  4311, 81674, 22381])"
            ]
          },
          "metadata": {},
          "execution_count": 14
        }
      ]
    },
    {
      "cell_type": "code",
      "source": [
        "# Find the indices of the top 5 closest reviews\n",
        "top5_review_indices = np.argsort(cosine_similarities[:, 0])[-5:][::-1]\n",
        "\n",
        "# Print the details of the given review\n",
        "print(\"Given Review:\")\n",
        "print(\"Review Text:\", given_review)\n",
        "\n",
        "# Print the details of the top 5 closest reviews\n",
        "print(\"\\nTop 5 Closest Reviews:\")\n",
        "for i, index in enumerate(top5_review_indices):\n",
        "    closest_review_details = df_stratified_clean.loc[index, ['app_name', 'review_text']]\n",
        "    print(f\"\\nClosest Game {i + 1} Details:\")\n",
        "    print(\"App Name:\", closest_review_details['app_name'])\n",
        "    print(\"Review Text:\", closest_review_details['review_text'])"
      ],
      "metadata": {
        "colab": {
          "base_uri": "https://localhost:8080/"
        },
        "id": "X1BTYAJN0kBx",
        "outputId": "0993dcb4-5e42-4a55-c8f5-9a4731ecf31b"
      },
      "execution_count": null,
      "outputs": [
        {
          "output_type": "stream",
          "name": "stdout",
          "text": [
            "Given Review:\n",
            "Review Text: A shooter game with lots of gore and blood and guts. Made by a good developer, not greedy and no microtransactions. Replayability is a must.\n",
            "\n",
            "Top 5 Closest Reviews:\n",
            "\n",
            "Closest Game 1 Details:\n",
            "App Name: Killing Floor 2\n",
            "Review Text: I remember playing KF 1 a lot but I haven't had much time to play this one as much as I want, so far it have been a great game and I will continue to play it whenever I have time.\n",
            "\n",
            "Closest Game 2 Details:\n",
            "App Name: Antisquad\n",
            "Review Text: This game just barely makes the grade. Lots of potential. But the grinding gets really awful after a while. The rewards gets really tedious to achieve.  I really like the mechanics and the graphics. So I would say, it is worth playing a bit.. but dun expect it to last too long.  6.5 / 10\n",
            "\n",
            "Closest Game 3 Details:\n",
            "App Name: Shank\n",
            "Review Text: Great action 2-D game. A lot of blood and gore. The only two flaws is that it needs more variety in weapon, and the campaign is a little short (but also have a coop campaign)\n",
            "\n",
            "Closest Game 4 Details:\n",
            "App Name: Blood: One Unit Whole Blood\n",
            "Review Text: Game itself: The best game released on build engine for me. It has a dark and dense atmosphere with some steampunk elements but covered in a dust. You have a feeling that something went wrong in this dark world and everything here is old and dirty. The level design is simply great. Caleb is a kind of antihero and it was nice to play in a skin of someone who was not another 'white knight'. This is strictly tied to my childhood and I get tons of nostalgy from playing this title so I cannot guarantee that everyone will like it though :).  Steam version: This version lacks of some good port. Im using a GOG version (overwritten on steam files) which is made far better for Dosbox. However you can improve the mouse configuration and other settings by viewing community guides. For me it's not a bid deal but some people here make a problem of it.   Graphics Don't expect beautiful modern graphics. It has a great style and drawings and if you approach it as a retro styled game then you shall be satisfied. It has some nice ideas though and it was prety inventive at it's times of glory.   Overall: Recommended but remember that this is an old game. For me it's absolutely briliant experience, I've finished it over 15 times and I still play it if I get a mood for it :).\n",
            "\n",
            "Closest Game 5 Details:\n",
            "App Name: Darksiders\n",
            "Review Text: This is possibly the worst port ever of a console game to the PC. Its impossible to finish without a controller, you can get up to the ashworms, and that's it and no further. The moment you get on a horse the controls screw up so badly that its impossible to continue, the moment you try to move in any direction while riding your horse the character WILL jump off and you WILL get killed. Also aiming doesn't work for squat because they assume you're moving around with a joystick.\n"
          ]
        }
      ]
    }
  ],
  "metadata": {
    "colab": {
      "provenance": []
    },
    "kernelspec": {
      "display_name": "Python 3",
      "name": "python3"
    },
    "language_info": {
      "name": "python"
    }
  },
  "nbformat": 4,
  "nbformat_minor": 0
}