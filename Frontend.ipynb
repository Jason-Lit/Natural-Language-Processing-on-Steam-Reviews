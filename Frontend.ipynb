{
  "nbformat": 4,
  "nbformat_minor": 0,
  "metadata": {
    "colab": {
      "provenance": []
    },
    "kernelspec": {
      "name": "python3",
      "display_name": "Python 3"
    },
    "language_info": {
      "name": "python"
    }
  },
  "cells": [
    {
      "cell_type": "code",
      "execution_count": null,
      "metadata": {
        "id": "Pkzr0K1TmEb_",
        "colab": {
          "base_uri": "https://localhost:8080/"
        },
        "outputId": "9ff980d7-817f-4bb2-9963-9af18a481261"
      },
      "outputs": [
        {
          "output_type": "stream",
          "name": "stdout",
          "text": [
            "\u001b[2K     \u001b[90m━━━━━━━━━━━━━━━━━━━━━━━━━━━━━━━━━━━━━━━━\u001b[0m \u001b[32m8.4/8.4 MB\u001b[0m \u001b[31m23.8 MB/s\u001b[0m eta \u001b[36m0:00:00\u001b[0m\n",
            "\u001b[2K     \u001b[90m━━━━━━━━━━━━━━━━━━━━━━━━━━━━━━━━━━━━━━━━\u001b[0m \u001b[32m190.6/190.6 kB\u001b[0m \u001b[31m20.8 MB/s\u001b[0m eta \u001b[36m0:00:00\u001b[0m\n",
            "\u001b[2K     \u001b[90m━━━━━━━━━━━━━━━━━━━━━━━━━━━━━━━━━━━━━━━━\u001b[0m \u001b[32m4.8/4.8 MB\u001b[0m \u001b[31m74.0 MB/s\u001b[0m eta \u001b[36m0:00:00\u001b[0m\n",
            "\u001b[2K     \u001b[90m━━━━━━━━━━━━━━━━━━━━━━━━━━━━━━━━━━━━━━━━\u001b[0m \u001b[32m82.1/82.1 kB\u001b[0m \u001b[31m9.0 MB/s\u001b[0m eta \u001b[36m0:00:00\u001b[0m\n",
            "\u001b[2K     \u001b[90m━━━━━━━━━━━━━━━━━━━━━━━━━━━━━━━━━━━━━━━━\u001b[0m \u001b[32m62.7/62.7 kB\u001b[0m \u001b[31m6.5 MB/s\u001b[0m eta \u001b[36m0:00:00\u001b[0m\n",
            "\u001b[?25h"
          ]
        }
      ],
      "source": [
        "!pip install -q streamlit\n",
        "import streamlit as st\n",
        "import pandas as pd\n",
        "import numpy as np"
      ]
    },
    {
      "cell_type": "code",
      "source": [
        "%%javascript\n",
        "function ClickConnect(){\n",
        "console.log(\"Working\");\n",
        "document.querySelector(\"colab-toolbar-button#connect\").click()\n",
        "}setInterval(ClickConnect,60000)"
      ],
      "metadata": {
        "id": "v61bei3e-vZu",
        "outputId": "6d02cbc1-397a-4a00-c8d4-bd9164e9aaa5",
        "colab": {
          "base_uri": "https://localhost:8080/",
          "height": 17
        }
      },
      "execution_count": null,
      "outputs": [
        {
          "output_type": "display_data",
          "data": {
            "text/plain": [
              "<IPython.core.display.Javascript object>"
            ],
            "application/javascript": [
              "function ClickConnect(){\n",
              "console.log(\"Working\");\n",
              "document.querySelector(\"colab-toolbar-button#connect\").click()\n",
              "}setInterval(ClickConnect,60000)\n"
            ]
          },
          "metadata": {}
        }
      ]
    },
    {
      "cell_type": "code",
      "source": [
        "from google.colab import drive\n",
        "drive.mount('/content/drive/')"
      ],
      "metadata": {
        "colab": {
          "base_uri": "https://localhost:8080/"
        },
        "id": "rdaPIkVDc1Oc",
        "outputId": "d0d0dff1-64a6-4cab-ecf2-2ace26e46316"
      },
      "execution_count": null,
      "outputs": [
        {
          "output_type": "stream",
          "name": "stdout",
          "text": [
            "Mounted at /content/drive/\n"
          ]
        }
      ]
    },
    {
      "cell_type": "code",
      "source": [
        "!pip install pyngrok==4.1.1\n",
        "from pyngrok import ngrok\n",
        "!ngrok authtoken *** # replace the *** with your ngrok authentication token to create the frontend locally\n",
        "public_url = ngrok.connect(port='8501')\n",
        "print(public_url)"
      ],
      "metadata": {
        "colab": {
          "base_uri": "https://localhost:8080/"
        },
        "id": "9UgjUAIbZULd",
        "outputId": "d939faad-f880-4df2-df24-7c3872cbeae4"
      },
      "execution_count": null,
      "outputs": [
        {
          "output_type": "stream",
          "name": "stdout",
          "text": [
            "Collecting pyngrok==4.1.1\n",
            "  Downloading pyngrok-4.1.1.tar.gz (18 kB)\n",
            "  Preparing metadata (setup.py) ... \u001b[?25l\u001b[?25hdone\n",
            "Requirement already satisfied: future in /usr/local/lib/python3.10/dist-packages (from pyngrok==4.1.1) (0.18.3)\n",
            "Requirement already satisfied: PyYAML in /usr/local/lib/python3.10/dist-packages (from pyngrok==4.1.1) (6.0.1)\n",
            "Building wheels for collected packages: pyngrok\n",
            "  Building wheel for pyngrok (setup.py) ... \u001b[?25l\u001b[?25hdone\n",
            "  Created wheel for pyngrok: filename=pyngrok-4.1.1-py3-none-any.whl size=15963 sha256=546b76d643849772b4bf060bf44ccf4f07c8b126039275c00fc4d42ca5485014\n",
            "  Stored in directory: /root/.cache/pip/wheels/4c/7c/4c/632fba2ea8e88d8890102eb07bc922e1ca8fa14db5902c91a8\n",
            "Successfully built pyngrok\n",
            "Installing collected packages: pyngrok\n",
            "Successfully installed pyngrok-4.1.1\n",
            "Authtoken saved to configuration file: /root/.ngrok2/ngrok.yml\n",
            "http://b909-35-224-37-15.ngrok-free.app\n"
          ]
        }
      ]
    },
    {
      "cell_type": "code",
      "source": [
        "!ngrok http 8501"
      ],
      "metadata": {
        "id": "uEMpCq5GgXch",
        "colab": {
          "base_uri": "https://localhost:8080/"
        },
        "outputId": "cdc9a1f9-b1ed-4090-b925-7b29ee788201"
      },
      "execution_count": null,
      "outputs": [
        {
          "output_type": "stream",
          "name": "stdout",
          "text": [
            "Your account is limited to 1 simultaneous ngrok agent session.\n",
            "You can run multiple tunnels on a single agent session using a configuration file.\n",
            "To learn more, see https://ngrok.com/docs/secure-tunnels/ngrok-agent/reference/config/\n",
            "\n",
            "Active ngrok agent sessions in region 'us':\n",
            "  - ts_2Z6II8P5ZFfSAu3tAIwCbZiP6lS (35.224.37.15)\r\n",
            "\r\n",
            "ERR_NGROK_108\r\n",
            "\n"
          ]
        }
      ]
    },
    {
      "cell_type": "code",
      "source": [
        "!pip install -q gpt-2-simple\n"
      ],
      "metadata": {
        "id": "3puL0Z523J5_",
        "colab": {
          "base_uri": "https://localhost:8080/"
        },
        "outputId": "098bb957-4595-420d-fa9c-08cb291bd058"
      },
      "execution_count": null,
      "outputs": [
        {
          "output_type": "stream",
          "name": "stdout",
          "text": [
            "  Preparing metadata (setup.py) ... \u001b[?25l\u001b[?25hdone\n",
            "  Building wheel for gpt-2-simple (setup.py) ... \u001b[?25l\u001b[?25hdone\n"
          ]
        }
      ]
    },
    {
      "cell_type": "code",
      "source": [
        "!streamlit run /content/app.py &>/content/logs.txt &"
      ],
      "metadata": {
        "id": "6wUWkaGagbOr"
      },
      "execution_count": null,
      "outputs": []
    },
    {
      "cell_type": "code",
      "source": [
        "%%writefile app.py\n",
        "\n",
        "import streamlit as st\n",
        "import pandas as pd\n",
        "import numpy as np\n",
        "import re\n",
        "from sklearn.feature_extraction.text import TfidfVectorizer\n",
        "from sklearn.metrics.pairwise import cosine_similarity\n",
        "\n",
        "import gpt_2_simple as gpt2\n",
        "from datetime import datetime\n",
        "from google.colab import files\n",
        "import os\n",
        "shared_drive_path = '/content/drive/Shared drives/MSIS 2534 - NLP Group/Final Project'\n",
        "os.chdir(shared_drive_path)\n",
        "import gpt_2_simple as gpt2\n",
        "sess = gpt2.start_tf_sess()\n",
        "gpt2.load_gpt2(sess)\n",
        "\n",
        "file_path_strat = '/content/drive/Shared drives/MSIS 2534 - NLP Group/Final Project/tokened_n_lemmatized.csv'\n",
        "df_stratified = pd.read_csv(file_path_strat)\n",
        "df_stratified_clean = df_stratified.dropna(subset=['processed_reviews'])\n",
        "\n",
        "def SimilarReviewGenerator(review):\n",
        "    reviews = [review]\n",
        "    vectorizer = TfidfVectorizer()\n",
        "    vectorized_reviews = vectorizer.fit_transform(df_stratified_clean['processed_reviews'])\n",
        "    vectorized_given_review = vectorizer.transform(reviews)\n",
        "    cosine_similarities = cosine_similarity(vectorized_reviews, vectorized_given_review)\n",
        "    top5_review_indices = np.argsort(cosine_similarities[:, 0])[-5:][::-1]\n",
        "    similar_reviews = []\n",
        "    for index in top5_review_indices:\n",
        "        closest_review_details = df_stratified_clean.loc[index, ['app_name', 'review_text']]\n",
        "        similar_reviews.append({\n",
        "            'App Name': closest_review_details['app_name'],\n",
        "            'Review Text': closest_review_details['review_text']\n",
        "        })\n",
        "    question = 'Write 1 pro (if there exists a pro) and 1 con (if there exists a con) about the reviews.'\n",
        "    review = str(review)\n",
        "    reviewog = re.sub(r'[’‘]', '', review)\n",
        "    complete = question + \": \" + reviewog\n",
        "    ProConList = gpt2.generate(sess,run_name = 'run1', prefix=complete, include_prefix=True, length=150, return_as_list = True)\n",
        "    return similar_reviews, ProConList\n",
        "\n",
        "st.title(\"Steam Game Reviews Wizard :male_mage:\")\n",
        "\n",
        "with st.form(key='my_form'):\n",
        "  text_input = st.text_input(label='Write a game review without mentioning the name of the game:')\n",
        "  submit_button = st.form_submit_button(label='Submit')\n",
        "\n",
        "if submit_button and text_input:\n",
        "  similar_reviews, ProConList = SimilarReviewGenerator(text_input)\n",
        "\n",
        "  st.header(\"Pro & Con:\", divider='rainbow')\n",
        "  st.write(ProConList[0].replace(\"Write 1 pro (if there exists a pro) and 1 con (if there exists a con) about the reviews.: \", \"\"))\n",
        "\n",
        "  st.header(\"The Top 5 Most Similar Games:\", divider='rainbow')\n",
        "  for i, review in enumerate(similar_reviews):\n",
        "    st.subheader(f\"\\nClosest Game #{i + 1}:\")\n",
        "    st.write(\"**Game Name:**\", review['App Name'])\n",
        "    st.write(\"**Review:**\", review['Review Text'])"
      ],
      "metadata": {
        "colab": {
          "base_uri": "https://localhost:8080/"
        },
        "id": "QkMiB0SsaIZm",
        "outputId": "64f23244-a76e-48a4-f400-e12b2e25d99e"
      },
      "execution_count": null,
      "outputs": [
        {
          "output_type": "stream",
          "name": "stdout",
          "text": [
            "Writing app.py\n"
          ]
        }
      ]
    },
    {
      "cell_type": "code",
      "source": [
        "#!streamlit run /content/app.py &>/content/logs.txt &"
      ],
      "metadata": {
        "id": "dx-t-q8OyQ3A"
      },
      "execution_count": null,
      "outputs": []
    },
    {
      "cell_type": "code",
      "source": [
        "#!pip install -q gpt-2-simple\n",
        "#import gpt_2_simple as gpt2\n",
        "#from datetime import datetime\n",
        "#from google.colab import files\n",
        "#import os\n",
        "#shared_drive_path = '/content/drive/Shared drives/MSIS 2534 - NLP Group/Final Project'\n",
        "#os.chdir(shared_drive_path)\n",
        "#import gpt_2_simple as gpt2\n",
        "#sess = gpt2.start_tf_sess()\n",
        "#gpt2.load_gpt2(sess)"
      ],
      "metadata": {
        "id": "2WirEjogbQhv"
      },
      "execution_count": null,
      "outputs": []
    },
    {
      "cell_type": "code",
      "source": [
        "#import re\n",
        "#def GenerateResponse(review):\n",
        "#  question = 'Write 1 pro (if there exists a pro) and 1 con (if there exists a con) about the reviews.'\n",
        "#  review = str(review)\n",
        "#  reviewog = re.sub(r'[’‘]', '', review)\n",
        "#  complete = question + \": \" + reviewog\n",
        "#  gpt2.generate(sess,run_name = 'run1', prefix=complete, include_prefix=True, length=125)\n"
      ],
      "metadata": {
        "id": "oe5E0EVOb93X"
      },
      "execution_count": null,
      "outputs": []
    },
    {
      "cell_type": "code",
      "source": [
        "#review = 'Not having steam cloud saves is the only thing wrong with this. Having to restart every time you want to play on a new device sucks!'\n",
        "#GenerateResponse(review)"
      ],
      "metadata": {
        "id": "gTxy7eC_dNF6"
      },
      "execution_count": null,
      "outputs": []
    },
    {
      "cell_type": "code",
      "source": [],
      "metadata": {
        "id": "Q7Q49JGziei5"
      },
      "execution_count": null,
      "outputs": []
    }
  ]
}