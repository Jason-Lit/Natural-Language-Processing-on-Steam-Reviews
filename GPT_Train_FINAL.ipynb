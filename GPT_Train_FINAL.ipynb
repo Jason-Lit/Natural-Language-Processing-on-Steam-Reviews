{
  "nbformat": 4,
  "nbformat_minor": 0,
  "metadata": {
    "colab": {
      "provenance": [],
      "gpuType": "T4",
      "authorship_tag": "ABX9TyPmsFBTnNfjhgwrYNlHpIVU"
    },
    "kernelspec": {
      "name": "python3",
      "display_name": "Python 3"
    },
    "language_info": {
      "name": "python"
    },
    "accelerator": "GPU"
  },
  "cells": [
    {
      "cell_type": "code",
      "execution_count": null,
      "metadata": {
        "colab": {
          "base_uri": "https://localhost:8080/"
        },
        "id": "8ocEG_XmPgg3",
        "outputId": "810ca69c-af91-4243-e0f1-d6f6069c16a8"
      },
      "outputs": [
        {
          "output_type": "stream",
          "name": "stdout",
          "text": [
            "Drive already mounted at /content/drive/; to attempt to forcibly remount, call drive.mount(\"/content/drive/\", force_remount=True).\n"
          ]
        }
      ],
      "source": [
        "import pandas as pd\n",
        "import numpy as np\n",
        "from google.colab import drive\n",
        "drive.mount('/content/drive/')\n",
        "#%tensorflow_version 1.x\n",
        "!pip install -q gpt-2-simple\n",
        "import gpt_2_simple as gpt2\n",
        "from datetime import datetime\n",
        "from google.colab import files"
      ]
    },
    {
      "cell_type": "code",
      "source": [
        "file_path = '/content/drive/Shared drives/MSIS 2534 - NLP Group/Final Project/tokened_n_lemmatized.csv'\n",
        "df = pd.read_csv(file_path)"
      ],
      "metadata": {
        "id": "ENexOW0qP_ra"
      },
      "execution_count": null,
      "outputs": []
    },
    {
      "cell_type": "code",
      "source": [
        "df_grouped = df.groupby('app_id', group_keys=False)\n",
        "\n",
        "# Define a function to perform the stratified split\n",
        "\n",
        "def stratified_split(group):\n",
        "    #Change number of samples as needed\n",
        "    target_samples = 1\n",
        "    total_samples = len(group)\n",
        "\n",
        "    # 1 review per game for training\n",
        "    frac = target_samples / total_samples if total_samples > target_samples else 1.0\n",
        "\n",
        "    return group.sample(frac=frac, random_state=42)\n",
        "df_stratified = df.groupby('app_id', group_keys=False).apply(stratified_split)\n",
        "\n",
        "# Reset the index to turn it into a normal DataFrame\n",
        "df_stratified = df_stratified.reset_index(drop=True)"
      ],
      "metadata": {
        "id": "9ZKS_N4VQG3M"
      },
      "execution_count": null,
      "outputs": []
    },
    {
      "cell_type": "code",
      "source": [
        "Trainer = df_stratified['review_text_named'].tolist()\n",
        "file = \"\\n\".join(Trainer)"
      ],
      "metadata": {
        "id": "ovZ9Rvi3QZvc"
      },
      "execution_count": null,
      "outputs": []
    },
    {
      "cell_type": "code",
      "source": [
        "your_string = file\n",
        "\n",
        "# Specify the file path\n",
        "file_path = \"/content/drive/Shared drives/MSIS 2534 - NLP Group/Final Project/train.txt\"\n",
        "\n",
        "# Open the file in write mode\n",
        "with open(file_path, 'w') as file:\n",
        "    # Write the string to the file\n",
        "    file.write(your_string)"
      ],
      "metadata": {
        "id": "_BuzFEI7XIzh"
      },
      "execution_count": null,
      "outputs": []
    },
    {
      "cell_type": "code",
      "source": [
        "TrainerClean = df_stratified['processed_reviews'].tolist()\n",
        "TrainerClean = [str(x) for x in TrainerClean]\n",
        "cleanfile = \"\\n\".join(TrainerClean)\n",
        "your_string = cleanfile\n",
        "\n",
        "# Specify the file path\n",
        "file_path = \"/content/drive/Shared drives/MSIS 2534 - NLP Group/Final Project/cleantrain.txt\"\n",
        "\n",
        "# Open the file in write mode\n",
        "with open(file_path, 'w') as file:\n",
        "    # Write the string to the file\n",
        "    file.write(your_string)"
      ],
      "metadata": {
        "id": "dxWKkKL8eP2_"
      },
      "execution_count": null,
      "outputs": []
    },
    {
      "cell_type": "code",
      "source": [
        "gpt2.download_gpt2(model_name=\"124M\")"
      ],
      "metadata": {
        "id": "2Zi-zLYEQpRh",
        "colab": {
          "base_uri": "https://localhost:8080/"
        },
        "outputId": "d2666033-c1d7-4722-a1da-361361e84cd3"
      },
      "execution_count": null,
      "outputs": [
        {
          "output_type": "stream",
          "name": "stderr",
          "text": [
            "Fetching checkpoint: 1.05Mit [00:00, 2.48Git/s]                                                     \n",
            "Fetching encoder.json: 1.05Mit [00:00, 2.78Mit/s]\n",
            "Fetching hparams.json: 1.05Mit [00:00, 1.67Git/s]                                                   \n",
            "Fetching model.ckpt.data-00000-of-00001: 498Mit [00:13, 37.4Mit/s]                                  \n",
            "Fetching model.ckpt.index: 1.05Mit [00:00, 1.35Git/s]                                               \n",
            "Fetching model.ckpt.meta: 1.05Mit [00:00, 3.43Mit/s]\n",
            "Fetching vocab.bpe: 1.05Mit [00:00, 4.42Mit/s]\n"
          ]
        }
      ]
    },
    {
      "cell_type": "code",
      "source": [
        "filepath = \"/content/drive/Shared drives/MSIS 2534 - NLP Group/Final Project/train.txt\""
      ],
      "metadata": {
        "id": "9-Gar6FZZJ2H"
      },
      "execution_count": null,
      "outputs": []
    },
    {
      "cell_type": "code",
      "source": [
        "sess = gpt2.start_tf_sess()\n",
        "\n",
        "gpt2.finetune(sess,\n",
        "              dataset=filepath,\n",
        "              model_name='124M',\n",
        "              steps=150,\n",
        "              restore_from='fresh',\n",
        "              run_name='run1',\n",
        "              print_every=10,\n",
        "              sample_every=200,\n",
        "              save_every=50,\n",
        "              #reuse=True\n",
        "              )"
      ],
      "metadata": {
        "id": "6uIKCOV2RUGw",
        "colab": {
          "base_uri": "https://localhost:8080/"
        },
        "outputId": "c2c91a08-14e9-4b54-d51c-93d3fdb0e794"
      },
      "execution_count": null,
      "outputs": [
        {
          "output_type": "stream",
          "name": "stdout",
          "text": [
            "Loading checkpoint models/124M/model.ckpt\n",
            "Loading dataset...\n"
          ]
        },
        {
          "output_type": "stream",
          "name": "stderr",
          "text": [
            "100%|██████████| 1/1 [00:07<00:00,  7.48s/it]\n"
          ]
        },
        {
          "output_type": "stream",
          "name": "stdout",
          "text": [
            "dataset has 1535657 tokens\n",
            "Training...\n",
            "[10 | 31.81] loss=3.57 avg=3.57\n",
            "[20 | 54.75] loss=3.69 avg=3.63\n",
            "[30 | 78.25] loss=3.64 avg=3.63\n",
            "[40 | 101.12] loss=3.38 avg=3.57\n",
            "[50 | 123.80] loss=3.55 avg=3.57\n",
            "Saving checkpoint/run1/model-50\n",
            "[60 | 149.35] loss=3.80 avg=3.61\n",
            "[70 | 172.44] loss=3.48 avg=3.59\n",
            "[80 | 195.31] loss=3.46 avg=3.57\n",
            "[90 | 218.40] loss=3.68 avg=3.58\n",
            "[100 | 241.31] loss=3.51 avg=3.57\n",
            "Saving checkpoint/run1/model-100\n"
          ]
        },
        {
          "output_type": "stream",
          "name": "stderr",
          "text": [
            "WARNING:tensorflow:From /usr/local/lib/python3.10/dist-packages/tensorflow/python/training/saver.py:1067: remove_checkpoint (from tensorflow.python.checkpoint.checkpoint_management) is deprecated and will be removed in a future version.\n",
            "Instructions for updating:\n",
            "Use standard file APIs to delete files with this prefix.\n"
          ]
        },
        {
          "output_type": "stream",
          "name": "stdout",
          "text": [
            "[110 | 267.12] loss=3.43 avg=3.56\n",
            "[120 | 290.15] loss=3.73 avg=3.58\n",
            "[130 | 313.17] loss=3.67 avg=3.58\n",
            "[140 | 336.00] loss=3.61 avg=3.59\n",
            "[150 | 358.87] loss=3.50 avg=3.58\n",
            "Saving checkpoint/run1/model-150\n"
          ]
        }
      ]
    },
    {
      "cell_type": "code",
      "source": [
        "gpt2.copy_checkpoint_to_gdrive(run_name='run1')"
      ],
      "metadata": {
        "id": "ryKxIBrNaMiW"
      },
      "execution_count": null,
      "outputs": []
    },
    {
      "cell_type": "code",
      "source": [
        "pre = '''Give a pro and con of the following reviews: I absolutely love Ratchet & Clank. I\\'ve played all the games and for the longest time it was the only reason I owned a PlayStation. Now I\\'ve gotten rid of the PlayStation. The game is everything I expected from the series and it was good fun. The only complaint is that there isn\\'t more to it. ; Its like doom eternal for kids its kinda fire tho ; While graphically impressive and introducing some interesting mechanics, the game suffers too greatly from being lacking in variety. Locations feel small and are far too few, and combat is repetitive with fewer types of enemies than in previous full length games. Collectibles are far too easy to find and give unsatisfying rewards, many just being straight up given to you without any effort required.'''"
      ],
      "metadata": {
        "id": "WlmBi7ygcETa"
      },
      "execution_count": null,
      "outputs": []
    },
    {
      "cell_type": "markdown",
      "source": [
        "The output of the first attempt was removed, as it was akin to what is seen in the Epic_Fail.ipynb"
      ],
      "metadata": {
        "id": "Y6P69m9IhgxC"
      }
    },
    {
      "cell_type": "code",
      "source": [
        "gpt2.reset_session(sess)"
      ],
      "metadata": {
        "colab": {
          "base_uri": "https://localhost:8080/"
        },
        "id": "0EbDlYzqa-hI",
        "outputId": "6c63e0ed-4de0-465f-da96-51d994998745"
      },
      "execution_count": null,
      "outputs": [
        {
          "output_type": "execute_result",
          "data": {
            "text/plain": [
              "<tensorflow.python.client.session.Session at 0x7ce2276fd780>"
            ]
          },
          "metadata": {},
          "execution_count": 42
        }
      ]
    },
    {
      "cell_type": "code",
      "source": [
        "filepath = \"/content/drive/Shared drives/MSIS 2534 - NLP Group/Final Project/cleantrain.txt\"\n"
      ],
      "metadata": {
        "id": "U-D_t4MOfJSg"
      },
      "execution_count": null,
      "outputs": []
    },
    {
      "cell_type": "code",
      "source": [
        "sess2 = gpt2.start_tf_sess()\n",
        "gpt2.finetune(sess2,\n",
        "              dataset=filepath,\n",
        "              model_name='124M',\n",
        "              steps=150,\n",
        "              restore_from='fresh',\n",
        "              run_name='run2',\n",
        "              print_every=10,\n",
        "              sample_every=200,\n",
        "              save_every=50,\n",
        "              #reuse=True\n",
        "              )"
      ],
      "metadata": {
        "colab": {
          "base_uri": "https://localhost:8080/"
        },
        "id": "AgKPk9gRfCUU",
        "outputId": "d255742c-b10a-4efc-bf35-045672ee5ec8"
      },
      "execution_count": null,
      "outputs": [
        {
          "output_type": "stream",
          "name": "stdout",
          "text": [
            "Loading checkpoint models/124M/model.ckpt\n",
            "Loading dataset...\n"
          ]
        },
        {
          "output_type": "stream",
          "name": "stderr",
          "text": [
            "100%|██████████| 1/1 [00:02<00:00,  2.98s/it]\n"
          ]
        },
        {
          "output_type": "stream",
          "name": "stdout",
          "text": [
            "dataset has 566348 tokens\n",
            "Training...\n",
            "[10 | 27.69] loss=6.72 avg=6.72\n",
            "[20 | 51.23] loss=6.53 avg=6.62\n",
            "[30 | 74.42] loss=6.46 avg=6.57\n",
            "[40 | 97.17] loss=6.28 avg=6.49\n",
            "[50 | 119.90] loss=6.25 avg=6.44\n",
            "Saving checkpoint/run2/model-50\n",
            "[60 | 146.17] loss=6.19 avg=6.40\n",
            "[70 | 169.29] loss=6.28 avg=6.38\n",
            "[80 | 192.20] loss=6.16 avg=6.35\n",
            "[90 | 215.12] loss=6.14 avg=6.33\n",
            "[100 | 238.08] loss=6.04 avg=6.30\n",
            "Saving checkpoint/run2/model-100\n"
          ]
        },
        {
          "output_type": "stream",
          "name": "stderr",
          "text": [
            "WARNING:tensorflow:From /usr/local/lib/python3.10/dist-packages/tensorflow/python/training/saver.py:1067: remove_checkpoint (from tensorflow.python.checkpoint.checkpoint_management) is deprecated and will be removed in a future version.\n",
            "Instructions for updating:\n",
            "Use standard file APIs to delete files with this prefix.\n"
          ]
        },
        {
          "output_type": "stream",
          "name": "stdout",
          "text": [
            "[110 | 267.53] loss=6.07 avg=6.28\n",
            "[120 | 290.73] loss=6.09 avg=6.26\n",
            "[130 | 313.61] loss=6.08 avg=6.25\n",
            "[140 | 336.47] loss=6.09 avg=6.23\n",
            "[150 | 359.39] loss=6.08 avg=6.22\n",
            "Saving checkpoint/run2/model-150\n"
          ]
        }
      ]
    },
    {
      "cell_type": "code",
      "source": [
        "gpt2.copy_checkpoint_to_gdrive(run_name='run2')"
      ],
      "metadata": {
        "id": "og09XHYOfOnb"
      },
      "execution_count": null,
      "outputs": []
    },
    {
      "cell_type": "code",
      "source": [
        "gpt2.generate(sess2, run_name = 'run2', prefix=pre, include_prefix=False, length=100)"
      ],
      "metadata": {
        "colab": {
          "base_uri": "https://localhost:8080/"
        },
        "id": "vmziGOmFiK-a",
        "outputId": "3b27ecaa-a437-4c9f-8419-cd5fcddeeeb0"
      },
      "execution_count": null,
      "outputs": [
        {
          "output_type": "stream",
          "name": "stdout",
          "text": [
            "Give a pro and con of the following reviews: I absolutely love Ratchet & Clank. I've played all the games and for the longest time it was the only reason I owned a PlayStation. Now I've gotten rid of the PlayStation. The game is everything I expected from the series and it was good fun. The only complaint is that there isn't more to it. ; Its like doom eternal for kids its kinda fire tho ; While graphically impressive and introducing some interesting mechanics, the game suffers too greatly from being lacking in variety. Locations feel small and are far too few, and combat is repetitive with fewer types of enemies than in previous full length games. Collectibles are far too easy to find and give unsatisfying rewards, many just being straight up given to you without any effort required.\n",
            "RPG love play game time play game love play game want play graphic good art little bit ugly right soundtrack well game sell people want play game\n",
            "super fun game like breakneck pace high score high resolution timer game crash time\n",
            "lose game sure people want play good time like unfortunately game run Windows bit strange game show metric difference time game play hour play hour masterpsi game\n",
            "game good amazing use little bit work graphic pretty good story good sound amazing audio main voice act awesome game time game good game\n"
          ]
        }
      ]
    },
    {
      "cell_type": "code",
      "source": [
        "df_stratified"
      ],
      "metadata": {
        "colab": {
          "base_uri": "https://localhost:8080/",
          "height": 423
        },
        "id": "-2hdzeW4lsPs",
        "outputId": "ec059c3e-4daa-4e7d-bba2-cd71de90033a"
      },
      "execution_count": null,
      "outputs": [
        {
          "output_type": "execute_result",
          "data": {
            "text/plain": [
              "      Unnamed: 0  app_id                   app_name  \\\n",
              "0             27      10             Counter-Strike   \n",
              "1             57      20      Team Fortress Classic   \n",
              "2             87      30              Day of Defeat   \n",
              "3            117      40         Deathmatch Classic   \n",
              "4            147      50  Half-Life: Opposing Force   \n",
              "...          ...     ...                        ...   \n",
              "8482      178867  562320               Locked In VR   \n",
              "8483      178875  562700              Paintball 707   \n",
              "8484      178879  563180                  Dispersio   \n",
              "8485      178883  563400                       Ludu   \n",
              "8486      178894  563430               Void Pyramid   \n",
              "\n",
              "                                            review_text  review_score  \\\n",
              "0     Was it good then? Probably. Is it good now? He...            -1   \n",
              "1     Once Valve made a game. They said 'Half-Life D...             1   \n",
              "2     This game is a first person shooter, like all ...            -1   \n",
              "3     The game is Valve's tribute to Quake. The game...             1   \n",
              "4     The best game where you play the guys out to g...             1   \n",
              "...                                                 ...           ...   \n",
              "8482  Fun for the price. Now that I got out, probabl...             1   \n",
              "8483  If you have a couple of friends, $5, and need ...             1   \n",
              "8484  This game is challenging, but not overly punis...             1   \n",
              "8485  Very creatively done! It was great how each pu...             1   \n",
              "8486  A Fun little dungeon RPG with some cool artwor...             1   \n",
              "\n",
              "      review_votes  word_count  \\\n",
              "0                0         116   \n",
              "1                0          59   \n",
              "2                1         232   \n",
              "3                0         113   \n",
              "4                0          30   \n",
              "...            ...         ...   \n",
              "8482             0          63   \n",
              "8483             1          49   \n",
              "8484             0         499   \n",
              "8485             0          34   \n",
              "8486             0          71   \n",
              "\n",
              "                                      review_text_named  \\\n",
              "0     Counter-Strike: Was it good then? Probably. Is...   \n",
              "1     Team Fortress Classic: Once Valve made a game....   \n",
              "2     Day of Defeat: This game is a first person sho...   \n",
              "3     Deathmatch Classic: The game is Valve's tribut...   \n",
              "4     Half-Life: Opposing Force: The best game where...   \n",
              "...                                                 ...   \n",
              "8482  Locked In VR: Fun for the price. Now that I go...   \n",
              "8483  Paintball 707: If you have a couple of friends...   \n",
              "8484  Dispersio: This game is challenging, but not o...   \n",
              "8485  Ludu: Very creatively done! It was great how e...   \n",
              "8486  Void Pyramid: A Fun little dungeon RPG with so...   \n",
              "\n",
              "                                      processed_reviews  \n",
              "0     good probably good hell find appeal game year ...  \n",
              "1     Valve game say half Life Deathmatch popular FP...  \n",
              "2     game person shooter like valve title tell date...  \n",
              "3     game Valve tribute Quake gameplay similar Quak...  \n",
              "4     good game play guy Gordon Freeman protagonist ...  \n",
              "...                                                 ...  \n",
              "8482  fun price get probably will play pro nice puzz...  \n",
              "8483  couple friend need waste time probably good sh...  \n",
              "8484  game challenge overly punish remind old EGA ga...  \n",
              "8485  creatively great puzzle game unique know go co...  \n",
              "8486  Fun little dungeon RPG cool artwork unique anc...  \n",
              "\n",
              "[8487 rows x 9 columns]"
            ],
            "text/html": [
              "\n",
              "  <div id=\"df-f8c1d8bc-f3ab-415d-b0df-844a89d4d999\" class=\"colab-df-container\">\n",
              "    <div>\n",
              "<style scoped>\n",
              "    .dataframe tbody tr th:only-of-type {\n",
              "        vertical-align: middle;\n",
              "    }\n",
              "\n",
              "    .dataframe tbody tr th {\n",
              "        vertical-align: top;\n",
              "    }\n",
              "\n",
              "    .dataframe thead th {\n",
              "        text-align: right;\n",
              "    }\n",
              "</style>\n",
              "<table border=\"1\" class=\"dataframe\">\n",
              "  <thead>\n",
              "    <tr style=\"text-align: right;\">\n",
              "      <th></th>\n",
              "      <th>Unnamed: 0</th>\n",
              "      <th>app_id</th>\n",
              "      <th>app_name</th>\n",
              "      <th>review_text</th>\n",
              "      <th>review_score</th>\n",
              "      <th>review_votes</th>\n",
              "      <th>word_count</th>\n",
              "      <th>review_text_named</th>\n",
              "      <th>processed_reviews</th>\n",
              "    </tr>\n",
              "  </thead>\n",
              "  <tbody>\n",
              "    <tr>\n",
              "      <th>0</th>\n",
              "      <td>27</td>\n",
              "      <td>10</td>\n",
              "      <td>Counter-Strike</td>\n",
              "      <td>Was it good then? Probably. Is it good now? He...</td>\n",
              "      <td>-1</td>\n",
              "      <td>0</td>\n",
              "      <td>116</td>\n",
              "      <td>Counter-Strike: Was it good then? Probably. Is...</td>\n",
              "      <td>good probably good hell find appeal game year ...</td>\n",
              "    </tr>\n",
              "    <tr>\n",
              "      <th>1</th>\n",
              "      <td>57</td>\n",
              "      <td>20</td>\n",
              "      <td>Team Fortress Classic</td>\n",
              "      <td>Once Valve made a game. They said 'Half-Life D...</td>\n",
              "      <td>1</td>\n",
              "      <td>0</td>\n",
              "      <td>59</td>\n",
              "      <td>Team Fortress Classic: Once Valve made a game....</td>\n",
              "      <td>Valve game say half Life Deathmatch popular FP...</td>\n",
              "    </tr>\n",
              "    <tr>\n",
              "      <th>2</th>\n",
              "      <td>87</td>\n",
              "      <td>30</td>\n",
              "      <td>Day of Defeat</td>\n",
              "      <td>This game is a first person shooter, like all ...</td>\n",
              "      <td>-1</td>\n",
              "      <td>1</td>\n",
              "      <td>232</td>\n",
              "      <td>Day of Defeat: This game is a first person sho...</td>\n",
              "      <td>game person shooter like valve title tell date...</td>\n",
              "    </tr>\n",
              "    <tr>\n",
              "      <th>3</th>\n",
              "      <td>117</td>\n",
              "      <td>40</td>\n",
              "      <td>Deathmatch Classic</td>\n",
              "      <td>The game is Valve's tribute to Quake. The game...</td>\n",
              "      <td>1</td>\n",
              "      <td>0</td>\n",
              "      <td>113</td>\n",
              "      <td>Deathmatch Classic: The game is Valve's tribut...</td>\n",
              "      <td>game Valve tribute Quake gameplay similar Quak...</td>\n",
              "    </tr>\n",
              "    <tr>\n",
              "      <th>4</th>\n",
              "      <td>147</td>\n",
              "      <td>50</td>\n",
              "      <td>Half-Life: Opposing Force</td>\n",
              "      <td>The best game where you play the guys out to g...</td>\n",
              "      <td>1</td>\n",
              "      <td>0</td>\n",
              "      <td>30</td>\n",
              "      <td>Half-Life: Opposing Force: The best game where...</td>\n",
              "      <td>good game play guy Gordon Freeman protagonist ...</td>\n",
              "    </tr>\n",
              "    <tr>\n",
              "      <th>...</th>\n",
              "      <td>...</td>\n",
              "      <td>...</td>\n",
              "      <td>...</td>\n",
              "      <td>...</td>\n",
              "      <td>...</td>\n",
              "      <td>...</td>\n",
              "      <td>...</td>\n",
              "      <td>...</td>\n",
              "      <td>...</td>\n",
              "    </tr>\n",
              "    <tr>\n",
              "      <th>8482</th>\n",
              "      <td>178867</td>\n",
              "      <td>562320</td>\n",
              "      <td>Locked In VR</td>\n",
              "      <td>Fun for the price. Now that I got out, probabl...</td>\n",
              "      <td>1</td>\n",
              "      <td>0</td>\n",
              "      <td>63</td>\n",
              "      <td>Locked In VR: Fun for the price. Now that I go...</td>\n",
              "      <td>fun price get probably will play pro nice puzz...</td>\n",
              "    </tr>\n",
              "    <tr>\n",
              "      <th>8483</th>\n",
              "      <td>178875</td>\n",
              "      <td>562700</td>\n",
              "      <td>Paintball 707</td>\n",
              "      <td>If you have a couple of friends, $5, and need ...</td>\n",
              "      <td>1</td>\n",
              "      <td>1</td>\n",
              "      <td>49</td>\n",
              "      <td>Paintball 707: If you have a couple of friends...</td>\n",
              "      <td>couple friend need waste time probably good sh...</td>\n",
              "    </tr>\n",
              "    <tr>\n",
              "      <th>8484</th>\n",
              "      <td>178879</td>\n",
              "      <td>563180</td>\n",
              "      <td>Dispersio</td>\n",
              "      <td>This game is challenging, but not overly punis...</td>\n",
              "      <td>1</td>\n",
              "      <td>0</td>\n",
              "      <td>499</td>\n",
              "      <td>Dispersio: This game is challenging, but not o...</td>\n",
              "      <td>game challenge overly punish remind old EGA ga...</td>\n",
              "    </tr>\n",
              "    <tr>\n",
              "      <th>8485</th>\n",
              "      <td>178883</td>\n",
              "      <td>563400</td>\n",
              "      <td>Ludu</td>\n",
              "      <td>Very creatively done! It was great how each pu...</td>\n",
              "      <td>1</td>\n",
              "      <td>0</td>\n",
              "      <td>34</td>\n",
              "      <td>Ludu: Very creatively done! It was great how e...</td>\n",
              "      <td>creatively great puzzle game unique know go co...</td>\n",
              "    </tr>\n",
              "    <tr>\n",
              "      <th>8486</th>\n",
              "      <td>178894</td>\n",
              "      <td>563430</td>\n",
              "      <td>Void Pyramid</td>\n",
              "      <td>A Fun little dungeon RPG with some cool artwor...</td>\n",
              "      <td>1</td>\n",
              "      <td>0</td>\n",
              "      <td>71</td>\n",
              "      <td>Void Pyramid: A Fun little dungeon RPG with so...</td>\n",
              "      <td>Fun little dungeon RPG cool artwork unique anc...</td>\n",
              "    </tr>\n",
              "  </tbody>\n",
              "</table>\n",
              "<p>8487 rows × 9 columns</p>\n",
              "</div>\n",
              "    <div class=\"colab-df-buttons\">\n",
              "\n",
              "  <div class=\"colab-df-container\">\n",
              "    <button class=\"colab-df-convert\" onclick=\"convertToInteractive('df-f8c1d8bc-f3ab-415d-b0df-844a89d4d999')\"\n",
              "            title=\"Convert this dataframe to an interactive table.\"\n",
              "            style=\"display:none;\">\n",
              "\n",
              "  <svg xmlns=\"http://www.w3.org/2000/svg\" height=\"24px\" viewBox=\"0 -960 960 960\">\n",
              "    <path d=\"M120-120v-720h720v720H120Zm60-500h600v-160H180v160Zm220 220h160v-160H400v160Zm0 220h160v-160H400v160ZM180-400h160v-160H180v160Zm440 0h160v-160H620v160ZM180-180h160v-160H180v160Zm440 0h160v-160H620v160Z\"/>\n",
              "  </svg>\n",
              "    </button>\n",
              "\n",
              "  <style>\n",
              "    .colab-df-container {\n",
              "      display:flex;\n",
              "      gap: 12px;\n",
              "    }\n",
              "\n",
              "    .colab-df-convert {\n",
              "      background-color: #E8F0FE;\n",
              "      border: none;\n",
              "      border-radius: 50%;\n",
              "      cursor: pointer;\n",
              "      display: none;\n",
              "      fill: #1967D2;\n",
              "      height: 32px;\n",
              "      padding: 0 0 0 0;\n",
              "      width: 32px;\n",
              "    }\n",
              "\n",
              "    .colab-df-convert:hover {\n",
              "      background-color: #E2EBFA;\n",
              "      box-shadow: 0px 1px 2px rgba(60, 64, 67, 0.3), 0px 1px 3px 1px rgba(60, 64, 67, 0.15);\n",
              "      fill: #174EA6;\n",
              "    }\n",
              "\n",
              "    .colab-df-buttons div {\n",
              "      margin-bottom: 4px;\n",
              "    }\n",
              "\n",
              "    [theme=dark] .colab-df-convert {\n",
              "      background-color: #3B4455;\n",
              "      fill: #D2E3FC;\n",
              "    }\n",
              "\n",
              "    [theme=dark] .colab-df-convert:hover {\n",
              "      background-color: #434B5C;\n",
              "      box-shadow: 0px 1px 3px 1px rgba(0, 0, 0, 0.15);\n",
              "      filter: drop-shadow(0px 1px 2px rgba(0, 0, 0, 0.3));\n",
              "      fill: #FFFFFF;\n",
              "    }\n",
              "  </style>\n",
              "\n",
              "    <script>\n",
              "      const buttonEl =\n",
              "        document.querySelector('#df-f8c1d8bc-f3ab-415d-b0df-844a89d4d999 button.colab-df-convert');\n",
              "      buttonEl.style.display =\n",
              "        google.colab.kernel.accessAllowed ? 'block' : 'none';\n",
              "\n",
              "      async function convertToInteractive(key) {\n",
              "        const element = document.querySelector('#df-f8c1d8bc-f3ab-415d-b0df-844a89d4d999');\n",
              "        const dataTable =\n",
              "          await google.colab.kernel.invokeFunction('convertToInteractive',\n",
              "                                                    [key], {});\n",
              "        if (!dataTable) return;\n",
              "\n",
              "        const docLinkHtml = 'Like what you see? Visit the ' +\n",
              "          '<a target=\"_blank\" href=https://colab.research.google.com/notebooks/data_table.ipynb>data table notebook</a>'\n",
              "          + ' to learn more about interactive tables.';\n",
              "        element.innerHTML = '';\n",
              "        dataTable['output_type'] = 'display_data';\n",
              "        await google.colab.output.renderOutput(dataTable, element);\n",
              "        const docLink = document.createElement('div');\n",
              "        docLink.innerHTML = docLinkHtml;\n",
              "        element.appendChild(docLink);\n",
              "      }\n",
              "    </script>\n",
              "  </div>\n",
              "\n",
              "\n",
              "<div id=\"df-54531b16-1601-4be0-aaa6-1788dba8bf08\">\n",
              "  <button class=\"colab-df-quickchart\" onclick=\"quickchart('df-54531b16-1601-4be0-aaa6-1788dba8bf08')\"\n",
              "            title=\"Suggest charts\"\n",
              "            style=\"display:none;\">\n",
              "\n",
              "<svg xmlns=\"http://www.w3.org/2000/svg\" height=\"24px\"viewBox=\"0 0 24 24\"\n",
              "     width=\"24px\">\n",
              "    <g>\n",
              "        <path d=\"M19 3H5c-1.1 0-2 .9-2 2v14c0 1.1.9 2 2 2h14c1.1 0 2-.9 2-2V5c0-1.1-.9-2-2-2zM9 17H7v-7h2v7zm4 0h-2V7h2v10zm4 0h-2v-4h2v4z\"/>\n",
              "    </g>\n",
              "</svg>\n",
              "  </button>\n",
              "\n",
              "<style>\n",
              "  .colab-df-quickchart {\n",
              "      --bg-color: #E8F0FE;\n",
              "      --fill-color: #1967D2;\n",
              "      --hover-bg-color: #E2EBFA;\n",
              "      --hover-fill-color: #174EA6;\n",
              "      --disabled-fill-color: #AAA;\n",
              "      --disabled-bg-color: #DDD;\n",
              "  }\n",
              "\n",
              "  [theme=dark] .colab-df-quickchart {\n",
              "      --bg-color: #3B4455;\n",
              "      --fill-color: #D2E3FC;\n",
              "      --hover-bg-color: #434B5C;\n",
              "      --hover-fill-color: #FFFFFF;\n",
              "      --disabled-bg-color: #3B4455;\n",
              "      --disabled-fill-color: #666;\n",
              "  }\n",
              "\n",
              "  .colab-df-quickchart {\n",
              "    background-color: var(--bg-color);\n",
              "    border: none;\n",
              "    border-radius: 50%;\n",
              "    cursor: pointer;\n",
              "    display: none;\n",
              "    fill: var(--fill-color);\n",
              "    height: 32px;\n",
              "    padding: 0;\n",
              "    width: 32px;\n",
              "  }\n",
              "\n",
              "  .colab-df-quickchart:hover {\n",
              "    background-color: var(--hover-bg-color);\n",
              "    box-shadow: 0 1px 2px rgba(60, 64, 67, 0.3), 0 1px 3px 1px rgba(60, 64, 67, 0.15);\n",
              "    fill: var(--button-hover-fill-color);\n",
              "  }\n",
              "\n",
              "  .colab-df-quickchart-complete:disabled,\n",
              "  .colab-df-quickchart-complete:disabled:hover {\n",
              "    background-color: var(--disabled-bg-color);\n",
              "    fill: var(--disabled-fill-color);\n",
              "    box-shadow: none;\n",
              "  }\n",
              "\n",
              "  .colab-df-spinner {\n",
              "    border: 2px solid var(--fill-color);\n",
              "    border-color: transparent;\n",
              "    border-bottom-color: var(--fill-color);\n",
              "    animation:\n",
              "      spin 1s steps(1) infinite;\n",
              "  }\n",
              "\n",
              "  @keyframes spin {\n",
              "    0% {\n",
              "      border-color: transparent;\n",
              "      border-bottom-color: var(--fill-color);\n",
              "      border-left-color: var(--fill-color);\n",
              "    }\n",
              "    20% {\n",
              "      border-color: transparent;\n",
              "      border-left-color: var(--fill-color);\n",
              "      border-top-color: var(--fill-color);\n",
              "    }\n",
              "    30% {\n",
              "      border-color: transparent;\n",
              "      border-left-color: var(--fill-color);\n",
              "      border-top-color: var(--fill-color);\n",
              "      border-right-color: var(--fill-color);\n",
              "    }\n",
              "    40% {\n",
              "      border-color: transparent;\n",
              "      border-right-color: var(--fill-color);\n",
              "      border-top-color: var(--fill-color);\n",
              "    }\n",
              "    60% {\n",
              "      border-color: transparent;\n",
              "      border-right-color: var(--fill-color);\n",
              "    }\n",
              "    80% {\n",
              "      border-color: transparent;\n",
              "      border-right-color: var(--fill-color);\n",
              "      border-bottom-color: var(--fill-color);\n",
              "    }\n",
              "    90% {\n",
              "      border-color: transparent;\n",
              "      border-bottom-color: var(--fill-color);\n",
              "    }\n",
              "  }\n",
              "</style>\n",
              "\n",
              "  <script>\n",
              "    async function quickchart(key) {\n",
              "      const quickchartButtonEl =\n",
              "        document.querySelector('#' + key + ' button');\n",
              "      quickchartButtonEl.disabled = true;  // To prevent multiple clicks.\n",
              "      quickchartButtonEl.classList.add('colab-df-spinner');\n",
              "      try {\n",
              "        const charts = await google.colab.kernel.invokeFunction(\n",
              "            'suggestCharts', [key], {});\n",
              "      } catch (error) {\n",
              "        console.error('Error during call to suggestCharts:', error);\n",
              "      }\n",
              "      quickchartButtonEl.classList.remove('colab-df-spinner');\n",
              "      quickchartButtonEl.classList.add('colab-df-quickchart-complete');\n",
              "    }\n",
              "    (() => {\n",
              "      let quickchartButtonEl =\n",
              "        document.querySelector('#df-54531b16-1601-4be0-aaa6-1788dba8bf08 button');\n",
              "      quickchartButtonEl.style.display =\n",
              "        google.colab.kernel.accessAllowed ? 'block' : 'none';\n",
              "    })();\n",
              "  </script>\n",
              "</div>\n",
              "    </div>\n",
              "  </div>\n"
            ]
          },
          "metadata": {},
          "execution_count": 5
        }
      ]
    },
    {
      "cell_type": "code",
      "source": [
        "TrainREVIEW = df_stratified['review_text'].tolist()\n",
        "file = \"\\n\".join(TrainREVIEW)\n",
        "your_string = file\n",
        "\n",
        "# Specify the file path\n",
        "file_path = \"/content/drive/Shared drives/MSIS 2534 - NLP Group/Final Project/reviews.txt\"\n",
        "\n",
        "# Open the file in write mode\n",
        "with open(file_path, 'w') as file:\n",
        "    # Write the string to the file\n",
        "    file.write(your_string)"
      ],
      "metadata": {
        "id": "-EXvw8J0iq23"
      },
      "execution_count": null,
      "outputs": []
    },
    {
      "cell_type": "code",
      "source": [
        "sess3 = gpt2.start_tf_sess()\n",
        "\n",
        "gpt2.finetune(sess3,\n",
        "              dataset=file_path,\n",
        "              model_name='124M',\n",
        "              steps=150,\n",
        "              restore_from='fresh',\n",
        "              run_name='run3',\n",
        "              print_every=10,\n",
        "              sample_every=200,\n",
        "              save_every=50,\n",
        "              #reuse=True\n",
        "              )"
      ],
      "metadata": {
        "colab": {
          "base_uri": "https://localhost:8080/"
        },
        "id": "xIdSKFQ1lhq8",
        "outputId": "78b2a515-68d1-4d97-c9e3-583ef7c7fd76"
      },
      "execution_count": null,
      "outputs": [
        {
          "output_type": "stream",
          "name": "stdout",
          "text": [
            "Loading checkpoint models/124M/model.ckpt\n",
            "Loading dataset...\n"
          ]
        },
        {
          "output_type": "stream",
          "name": "stderr",
          "text": [
            "100%|██████████| 1/1 [00:09<00:00,  9.79s/it]\n"
          ]
        },
        {
          "output_type": "stream",
          "name": "stdout",
          "text": [
            "dataset has 1486507 tokens\n",
            "Training...\n",
            "[10 | 26.22] loss=3.65 avg=3.65\n",
            "[20 | 47.82] loss=3.74 avg=3.70\n",
            "[30 | 69.68] loss=3.57 avg=3.65\n",
            "[40 | 91.98] loss=3.32 avg=3.57\n",
            "[50 | 115.05] loss=3.67 avg=3.59\n",
            "Saving checkpoint/run3/model-50\n",
            "[60 | 141.25] loss=3.50 avg=3.57\n",
            "[70 | 164.05] loss=3.48 avg=3.56\n",
            "[80 | 186.75] loss=3.54 avg=3.56\n",
            "[90 | 209.70] loss=3.47 avg=3.55\n",
            "[100 | 232.73] loss=3.41 avg=3.53\n",
            "Saving checkpoint/run3/model-100\n"
          ]
        },
        {
          "output_type": "stream",
          "name": "stderr",
          "text": [
            "WARNING:tensorflow:From /usr/local/lib/python3.10/dist-packages/tensorflow/python/training/saver.py:1067: remove_checkpoint (from tensorflow.python.checkpoint.checkpoint_management) is deprecated and will be removed in a future version.\n",
            "Instructions for updating:\n",
            "Use standard file APIs to delete files with this prefix.\n"
          ]
        },
        {
          "output_type": "stream",
          "name": "stdout",
          "text": [
            "[110 | 259.06] loss=3.47 avg=3.53\n",
            "[120 | 282.03] loss=3.51 avg=3.53\n",
            "[130 | 305.05] loss=3.55 avg=3.53\n",
            "[140 | 328.05] loss=3.43 avg=3.52\n",
            "[150 | 350.97] loss=3.29 avg=3.50\n",
            "Saving checkpoint/run3/model-150\n"
          ]
        }
      ]
    },
    {
      "cell_type": "code",
      "source": [
        "gpt2.copy_checkpoint_to_gdrive(run_name='run3')"
      ],
      "metadata": {
        "id": "UWH6IdC0mBgX"
      },
      "execution_count": null,
      "outputs": []
    },
    {
      "cell_type": "code",
      "source": [
        "gpt2.generate(sess3, run_name = 'run3', prefix=pre, include_prefix=False, length=200)"
      ],
      "metadata": {
        "colab": {
          "base_uri": "https://localhost:8080/"
        },
        "id": "OsNeB8crntl1",
        "outputId": "2961cd94-147d-4fc6-8add-135bf4c11bb9"
      },
      "execution_count": null,
      "outputs": [
        {
          "output_type": "stream",
          "name": "stdout",
          "text": [
            "Give a pro and con of the following reviews: I absolutely love Ratchet & Clank. I've played all the games and for the longest time it was the only reason I owned a PlayStation. Now I've gotten rid of the PlayStation. The game is everything I expected from the series and it was good fun. The only complaint is that there isn't more to it. ; Its like doom eternal for kids its kinda fire tho ; While graphically impressive and introducing some interesting mechanics, the game suffers too greatly from being lacking in variety. Locations feel small and are far too few, and combat is repetitive with fewer types of enemies than in previous full length games. Collectibles are far too easy to find and give unsatisfying rewards, many just being straight up given to you without any effort required.\n",
            "I bought this game because I was looking forward to playing a game that i had never played before. My first thought was this game is fun, but the controls are complicated beyond words. It's like playing a video game. I think it's fun to play, but I feel a bit antiquated at the game. I think it's very difficult, but it's also fun to play. I would say I'd have a hard time with it if I didn't play it.  I would recommend this game before buying a PS4, as it is still very fun, but there are some bugs that need to be addressed or fixed.\n",
            "All in all, are you a good person?  I like this game. I love the story, the art, the soundtrack, the voice acting and the characters. I am also happy with the songs and the music. I feel like it does a great job of keeping the game simple and enjoyable.  I can't wait to play it\n"
          ]
        }
      ]
    }
  ]
}